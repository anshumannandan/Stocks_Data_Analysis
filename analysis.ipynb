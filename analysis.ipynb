{
 "cells": [
  {
   "cell_type": "code",
   "execution_count": 1,
   "id": "6e7dc6f3",
   "metadata": {},
   "outputs": [],
   "source": [
    "import pandas as pd\n",
    "import numpy as np\n",
    "from alpha_vantage.timeseries import TimeSeries\n",
    "\n",
    "ts = TimeSeries(key='52KYU1B4HW8FCKX0')"
   ]
  },
  {
   "cell_type": "code",
   "execution_count": 2,
   "id": "84c370f3",
   "metadata": {},
   "outputs": [],
   "source": [
    "class ScriptData:\n",
    "\n",
    "    def __init__(self, fetched_data = {}, converted_data = {}):\n",
    "        self.fetched_data = fetched_data\n",
    "        self.converted_data = converted_data\n",
    "\n",
    "    # script : accepts script_name for converted_data and (script_name, 'fetched') for fetched_data\n",
    "    # returns fetched raw data or converted DataFrame for script\n",
    "    def __getitem__(self, script):\n",
    "        try:\n",
    "            script, data_type = script\n",
    "            try:\n",
    "                return self.fetched_data[script]\n",
    "            except KeyError:\n",
    "                return\n",
    "        except ValueError:\n",
    "            try:\n",
    "                return self.converted_data[script]\n",
    "            except KeyError:\n",
    "                return 'converted intraday data not available'\n",
    "\n",
    "    # saves data into the appropriate dictionary as per the type of data\n",
    "    def __setitem__(self, script, data):\n",
    "        if type(data) is pd.DataFrame:\n",
    "            self.converted_data[script] = data\n",
    "        else:\n",
    "            self.fetched_data[script] = data\n",
    "\n",
    "    # checks if data fo script exists in converted_data\n",
    "    def __contains__(self, script):\n",
    "        if script in self.converted_data:\n",
    "            return True\n",
    "        return False\n",
    "\n",
    "    # fetches raw data for a script\n",
    "    def fetch_intraday_data(self, script):\n",
    "        data, metadata = ts.get_intraday(symbol=script)\n",
    "        self[script] = data\n",
    "\n",
    "    # converts raw data into a organised pandas DataFrame with required columns and datatypes\n",
    "    def convert_intraday_data(self, script):\n",
    "        data = self[script, 'fetched']\n",
    "        if data is None:\n",
    "            return 'fetch data for this stock first'\n",
    "\n",
    "        # Arranging dataframe\n",
    "        df = pd.DataFrame(data).T\n",
    "        df.columns = ['open', 'high', 'low', 'close', 'volume']\n",
    "        df.insert(0, 'timestamp', df.index)\n",
    "        df.index = np.arange(len(data))\n",
    "\n",
    "        # Adopting appropriate datatypes\n",
    "        df = df.astype({'open': 'float', 'high': 'float', 'low': 'float', 'close': 'float', 'volume': 'int'})\n",
    "        df['timestamp'] = pd.to_datetime(df.timestamp)\n",
    "\n",
    "        self[script] = df"
   ]
  },
  {
   "cell_type": "code",
   "execution_count": 3,
   "id": "0a9f1820",
   "metadata": {},
   "outputs": [],
   "source": [
    "script_data = ScriptData()"
   ]
  },
  {
   "cell_type": "code",
   "execution_count": 4,
   "id": "10da1105",
   "metadata": {},
   "outputs": [
    {
     "data": {
      "text/html": [
       "<div>\n",
       "<style scoped>\n",
       "    .dataframe tbody tr th:only-of-type {\n",
       "        vertical-align: middle;\n",
       "    }\n",
       "\n",
       "    .dataframe tbody tr th {\n",
       "        vertical-align: top;\n",
       "    }\n",
       "\n",
       "    .dataframe thead th {\n",
       "        text-align: right;\n",
       "    }\n",
       "</style>\n",
       "<table border=\"1\" class=\"dataframe\">\n",
       "  <thead>\n",
       "    <tr style=\"text-align: right;\">\n",
       "      <th></th>\n",
       "      <th>timestamp</th>\n",
       "      <th>open</th>\n",
       "      <th>high</th>\n",
       "      <th>low</th>\n",
       "      <th>close</th>\n",
       "      <th>volume</th>\n",
       "    </tr>\n",
       "  </thead>\n",
       "  <tbody>\n",
       "    <tr>\n",
       "      <th>0</th>\n",
       "      <td>2023-02-22 20:00:00</td>\n",
       "      <td>91.9000</td>\n",
       "      <td>92.0300</td>\n",
       "      <td>91.8100</td>\n",
       "      <td>92.0300</td>\n",
       "      <td>9548</td>\n",
       "    </tr>\n",
       "    <tr>\n",
       "      <th>1</th>\n",
       "      <td>2023-02-22 19:45:00</td>\n",
       "      <td>91.9500</td>\n",
       "      <td>91.9600</td>\n",
       "      <td>91.8300</td>\n",
       "      <td>91.8400</td>\n",
       "      <td>12187</td>\n",
       "    </tr>\n",
       "    <tr>\n",
       "      <th>2</th>\n",
       "      <td>2023-02-22 19:30:00</td>\n",
       "      <td>91.8900</td>\n",
       "      <td>91.9500</td>\n",
       "      <td>91.8500</td>\n",
       "      <td>91.9400</td>\n",
       "      <td>3537</td>\n",
       "    </tr>\n",
       "    <tr>\n",
       "      <th>3</th>\n",
       "      <td>2023-02-22 19:15:00</td>\n",
       "      <td>91.8400</td>\n",
       "      <td>91.9300</td>\n",
       "      <td>91.8100</td>\n",
       "      <td>91.8900</td>\n",
       "      <td>12061</td>\n",
       "    </tr>\n",
       "    <tr>\n",
       "      <th>4</th>\n",
       "      <td>2023-02-22 19:00:00</td>\n",
       "      <td>91.8200</td>\n",
       "      <td>91.8400</td>\n",
       "      <td>91.7500</td>\n",
       "      <td>91.8400</td>\n",
       "      <td>2516</td>\n",
       "    </tr>\n",
       "    <tr>\n",
       "      <th>...</th>\n",
       "      <td>...</td>\n",
       "      <td>...</td>\n",
       "      <td>...</td>\n",
       "      <td>...</td>\n",
       "      <td>...</td>\n",
       "      <td>...</td>\n",
       "    </tr>\n",
       "    <tr>\n",
       "      <th>95</th>\n",
       "      <td>2023-02-21 12:15:00</td>\n",
       "      <td>92.1500</td>\n",
       "      <td>92.3300</td>\n",
       "      <td>92.0400</td>\n",
       "      <td>92.0900</td>\n",
       "      <td>816760</td>\n",
       "    </tr>\n",
       "    <tr>\n",
       "      <th>96</th>\n",
       "      <td>2023-02-21 12:00:00</td>\n",
       "      <td>92.3800</td>\n",
       "      <td>92.4000</td>\n",
       "      <td>92.1200</td>\n",
       "      <td>92.1550</td>\n",
       "      <td>575991</td>\n",
       "    </tr>\n",
       "    <tr>\n",
       "      <th>97</th>\n",
       "      <td>2023-02-21 11:45:00</td>\n",
       "      <td>92.2600</td>\n",
       "      <td>92.3900</td>\n",
       "      <td>92.0750</td>\n",
       "      <td>92.3700</td>\n",
       "      <td>762560</td>\n",
       "    </tr>\n",
       "    <tr>\n",
       "      <th>98</th>\n",
       "      <td>2023-02-21 11:30:00</td>\n",
       "      <td>92.3268</td>\n",
       "      <td>92.3368</td>\n",
       "      <td>92.1600</td>\n",
       "      <td>92.2500</td>\n",
       "      <td>557566</td>\n",
       "    </tr>\n",
       "    <tr>\n",
       "      <th>99</th>\n",
       "      <td>2023-02-21 11:15:00</td>\n",
       "      <td>92.3100</td>\n",
       "      <td>92.4200</td>\n",
       "      <td>92.1999</td>\n",
       "      <td>92.3232</td>\n",
       "      <td>619312</td>\n",
       "    </tr>\n",
       "  </tbody>\n",
       "</table>\n",
       "<p>100 rows × 6 columns</p>\n",
       "</div>"
      ],
      "text/plain": [
       "             timestamp     open     high      low    close  volume\n",
       "0  2023-02-22 20:00:00  91.9000  92.0300  91.8100  92.0300    9548\n",
       "1  2023-02-22 19:45:00  91.9500  91.9600  91.8300  91.8400   12187\n",
       "2  2023-02-22 19:30:00  91.8900  91.9500  91.8500  91.9400    3537\n",
       "3  2023-02-22 19:15:00  91.8400  91.9300  91.8100  91.8900   12061\n",
       "4  2023-02-22 19:00:00  91.8200  91.8400  91.7500  91.8400    2516\n",
       "..                 ...      ...      ...      ...      ...     ...\n",
       "95 2023-02-21 12:15:00  92.1500  92.3300  92.0400  92.0900  816760\n",
       "96 2023-02-21 12:00:00  92.3800  92.4000  92.1200  92.1550  575991\n",
       "97 2023-02-21 11:45:00  92.2600  92.3900  92.0750  92.3700  762560\n",
       "98 2023-02-21 11:30:00  92.3268  92.3368  92.1600  92.2500  557566\n",
       "99 2023-02-21 11:15:00  92.3100  92.4200  92.1999  92.3232  619312\n",
       "\n",
       "[100 rows x 6 columns]"
      ]
     },
     "execution_count": 4,
     "metadata": {},
     "output_type": "execute_result"
    }
   ],
   "source": [
    "script_data.fetch_intraday_data('GOOGL')\n",
    "script_data.convert_intraday_data('GOOGL')\n",
    "script_data['GOOGL']"
   ]
  },
  {
   "cell_type": "code",
   "execution_count": 5,
   "id": "5b82ca86",
   "metadata": {},
   "outputs": [
    {
     "data": {
      "text/html": [
       "<div>\n",
       "<style scoped>\n",
       "    .dataframe tbody tr th:only-of-type {\n",
       "        vertical-align: middle;\n",
       "    }\n",
       "\n",
       "    .dataframe tbody tr th {\n",
       "        vertical-align: top;\n",
       "    }\n",
       "\n",
       "    .dataframe thead th {\n",
       "        text-align: right;\n",
       "    }\n",
       "</style>\n",
       "<table border=\"1\" class=\"dataframe\">\n",
       "  <thead>\n",
       "    <tr style=\"text-align: right;\">\n",
       "      <th></th>\n",
       "      <th>timestamp</th>\n",
       "      <th>open</th>\n",
       "      <th>high</th>\n",
       "      <th>low</th>\n",
       "      <th>close</th>\n",
       "      <th>volume</th>\n",
       "    </tr>\n",
       "  </thead>\n",
       "  <tbody>\n",
       "    <tr>\n",
       "      <th>0</th>\n",
       "      <td>2023-02-22 20:00:00</td>\n",
       "      <td>149.130</td>\n",
       "      <td>149.240</td>\n",
       "      <td>149.10</td>\n",
       "      <td>149.1800</td>\n",
       "      <td>8726</td>\n",
       "    </tr>\n",
       "    <tr>\n",
       "      <th>1</th>\n",
       "      <td>2023-02-22 19:45:00</td>\n",
       "      <td>149.230</td>\n",
       "      <td>149.250</td>\n",
       "      <td>149.11</td>\n",
       "      <td>149.1500</td>\n",
       "      <td>13304</td>\n",
       "    </tr>\n",
       "    <tr>\n",
       "      <th>2</th>\n",
       "      <td>2023-02-22 19:30:00</td>\n",
       "      <td>149.270</td>\n",
       "      <td>149.290</td>\n",
       "      <td>149.18</td>\n",
       "      <td>149.1900</td>\n",
       "      <td>13253</td>\n",
       "    </tr>\n",
       "    <tr>\n",
       "      <th>3</th>\n",
       "      <td>2023-02-22 19:15:00</td>\n",
       "      <td>149.180</td>\n",
       "      <td>149.300</td>\n",
       "      <td>149.18</td>\n",
       "      <td>149.3000</td>\n",
       "      <td>1546</td>\n",
       "    </tr>\n",
       "    <tr>\n",
       "      <th>4</th>\n",
       "      <td>2023-02-22 19:00:00</td>\n",
       "      <td>149.180</td>\n",
       "      <td>149.240</td>\n",
       "      <td>149.06</td>\n",
       "      <td>149.1600</td>\n",
       "      <td>6135</td>\n",
       "    </tr>\n",
       "    <tr>\n",
       "      <th>...</th>\n",
       "      <td>...</td>\n",
       "      <td>...</td>\n",
       "      <td>...</td>\n",
       "      <td>...</td>\n",
       "      <td>...</td>\n",
       "      <td>...</td>\n",
       "    </tr>\n",
       "    <tr>\n",
       "      <th>95</th>\n",
       "      <td>2023-02-21 12:15:00</td>\n",
       "      <td>149.800</td>\n",
       "      <td>149.990</td>\n",
       "      <td>149.65</td>\n",
       "      <td>149.7600</td>\n",
       "      <td>1265926</td>\n",
       "    </tr>\n",
       "    <tr>\n",
       "      <th>96</th>\n",
       "      <td>2023-02-21 12:00:00</td>\n",
       "      <td>149.800</td>\n",
       "      <td>149.940</td>\n",
       "      <td>149.52</td>\n",
       "      <td>149.8001</td>\n",
       "      <td>1139047</td>\n",
       "    </tr>\n",
       "    <tr>\n",
       "      <th>97</th>\n",
       "      <td>2023-02-21 11:45:00</td>\n",
       "      <td>149.505</td>\n",
       "      <td>149.840</td>\n",
       "      <td>149.36</td>\n",
       "      <td>149.8050</td>\n",
       "      <td>1201495</td>\n",
       "    </tr>\n",
       "    <tr>\n",
       "      <th>98</th>\n",
       "      <td>2023-02-21 11:30:00</td>\n",
       "      <td>149.785</td>\n",
       "      <td>149.845</td>\n",
       "      <td>149.42</td>\n",
       "      <td>149.5100</td>\n",
       "      <td>1352613</td>\n",
       "    </tr>\n",
       "    <tr>\n",
       "      <th>99</th>\n",
       "      <td>2023-02-21 11:15:00</td>\n",
       "      <td>149.930</td>\n",
       "      <td>150.060</td>\n",
       "      <td>149.51</td>\n",
       "      <td>149.7806</td>\n",
       "      <td>1412478</td>\n",
       "    </tr>\n",
       "  </tbody>\n",
       "</table>\n",
       "<p>100 rows × 6 columns</p>\n",
       "</div>"
      ],
      "text/plain": [
       "             timestamp     open     high     low     close   volume\n",
       "0  2023-02-22 20:00:00  149.130  149.240  149.10  149.1800     8726\n",
       "1  2023-02-22 19:45:00  149.230  149.250  149.11  149.1500    13304\n",
       "2  2023-02-22 19:30:00  149.270  149.290  149.18  149.1900    13253\n",
       "3  2023-02-22 19:15:00  149.180  149.300  149.18  149.3000     1546\n",
       "4  2023-02-22 19:00:00  149.180  149.240  149.06  149.1600     6135\n",
       "..                 ...      ...      ...     ...       ...      ...\n",
       "95 2023-02-21 12:15:00  149.800  149.990  149.65  149.7600  1265926\n",
       "96 2023-02-21 12:00:00  149.800  149.940  149.52  149.8001  1139047\n",
       "97 2023-02-21 11:45:00  149.505  149.840  149.36  149.8050  1201495\n",
       "98 2023-02-21 11:30:00  149.785  149.845  149.42  149.5100  1352613\n",
       "99 2023-02-21 11:15:00  149.930  150.060  149.51  149.7806  1412478\n",
       "\n",
       "[100 rows x 6 columns]"
      ]
     },
     "execution_count": 5,
     "metadata": {},
     "output_type": "execute_result"
    }
   ],
   "source": [
    "script_data.fetch_intraday_data('AAPL')\n",
    "script_data.convert_intraday_data('AAPL')\n",
    "script_data['AAPL']"
   ]
  },
  {
   "cell_type": "code",
   "execution_count": 6,
   "id": "4d6ee2ef",
   "metadata": {},
   "outputs": [
    {
     "data": {
      "text/plain": [
       "True"
      ]
     },
     "execution_count": 6,
     "metadata": {},
     "output_type": "execute_result"
    }
   ],
   "source": [
    "'GOOGL' in script_data"
   ]
  },
  {
   "cell_type": "code",
   "execution_count": 7,
   "id": "9926984e",
   "metadata": {},
   "outputs": [
    {
     "data": {
      "text/plain": [
       "True"
      ]
     },
     "execution_count": 7,
     "metadata": {},
     "output_type": "execute_result"
    }
   ],
   "source": [
    "'AAPL' in script_data"
   ]
  },
  {
   "cell_type": "code",
   "execution_count": 8,
   "id": "27dc5e9c",
   "metadata": {},
   "outputs": [
    {
     "data": {
      "text/plain": [
       "False"
      ]
     },
     "execution_count": 8,
     "metadata": {},
     "output_type": "execute_result"
    }
   ],
   "source": [
    "'NVDA' in script_data"
   ]
  },
  {
   "cell_type": "code",
   "execution_count": 9,
   "id": "ebb47548",
   "metadata": {},
   "outputs": [],
   "source": [
    "# function to calculate indicator : average for previous specified closing data\n",
    "# returns a pandas DataFrame having indicator along with timestamps\n",
    "def indicator1(df, timeperiod):\n",
    "    new_df = df.loc[:,['timestamp']]\n",
    "    close_series = df.loc[:, 'close']\n",
    "\n",
    "    # Using rolling function to calculate mean of previous 'timeperiod' number of rows in close column\n",
    "    rolling_average = close_series.rolling(window=timeperiod, min_periods=timeperiod).mean()\n",
    "\n",
    "    new_df.insert(1, 'indicator', rolling_average)\n",
    "    return new_df"
   ]
  },
  {
   "cell_type": "code",
   "execution_count": 10,
   "id": "9cfc7e4e",
   "metadata": {},
   "outputs": [
    {
     "data": {
      "text/html": [
       "<div>\n",
       "<style scoped>\n",
       "    .dataframe tbody tr th:only-of-type {\n",
       "        vertical-align: middle;\n",
       "    }\n",
       "\n",
       "    .dataframe tbody tr th {\n",
       "        vertical-align: top;\n",
       "    }\n",
       "\n",
       "    .dataframe thead th {\n",
       "        text-align: right;\n",
       "    }\n",
       "</style>\n",
       "<table border=\"1\" class=\"dataframe\">\n",
       "  <thead>\n",
       "    <tr style=\"text-align: right;\">\n",
       "      <th></th>\n",
       "      <th>timestamp</th>\n",
       "      <th>indicator</th>\n",
       "    </tr>\n",
       "  </thead>\n",
       "  <tbody>\n",
       "    <tr>\n",
       "      <th>0</th>\n",
       "      <td>2023-02-22 20:00:00</td>\n",
       "      <td>NaN</td>\n",
       "    </tr>\n",
       "    <tr>\n",
       "      <th>1</th>\n",
       "      <td>2023-02-22 19:45:00</td>\n",
       "      <td>NaN</td>\n",
       "    </tr>\n",
       "    <tr>\n",
       "      <th>2</th>\n",
       "      <td>2023-02-22 19:30:00</td>\n",
       "      <td>NaN</td>\n",
       "    </tr>\n",
       "    <tr>\n",
       "      <th>3</th>\n",
       "      <td>2023-02-22 19:15:00</td>\n",
       "      <td>NaN</td>\n",
       "    </tr>\n",
       "    <tr>\n",
       "      <th>4</th>\n",
       "      <td>2023-02-22 19:00:00</td>\n",
       "      <td>91.90800</td>\n",
       "    </tr>\n",
       "    <tr>\n",
       "      <th>...</th>\n",
       "      <td>...</td>\n",
       "      <td>...</td>\n",
       "    </tr>\n",
       "    <tr>\n",
       "      <th>95</th>\n",
       "      <td>2023-02-21 12:15:00</td>\n",
       "      <td>91.91986</td>\n",
       "    </tr>\n",
       "    <tr>\n",
       "      <th>96</th>\n",
       "      <td>2023-02-21 12:00:00</td>\n",
       "      <td>91.99712</td>\n",
       "    </tr>\n",
       "    <tr>\n",
       "      <th>97</th>\n",
       "      <td>2023-02-21 11:45:00</td>\n",
       "      <td>92.08312</td>\n",
       "    </tr>\n",
       "    <tr>\n",
       "      <th>98</th>\n",
       "      <td>2023-02-21 11:30:00</td>\n",
       "      <td>92.15912</td>\n",
       "    </tr>\n",
       "    <tr>\n",
       "      <th>99</th>\n",
       "      <td>2023-02-21 11:15:00</td>\n",
       "      <td>92.23764</td>\n",
       "    </tr>\n",
       "  </tbody>\n",
       "</table>\n",
       "<p>100 rows × 2 columns</p>\n",
       "</div>"
      ],
      "text/plain": [
       "             timestamp  indicator\n",
       "0  2023-02-22 20:00:00        NaN\n",
       "1  2023-02-22 19:45:00        NaN\n",
       "2  2023-02-22 19:30:00        NaN\n",
       "3  2023-02-22 19:15:00        NaN\n",
       "4  2023-02-22 19:00:00   91.90800\n",
       "..                 ...        ...\n",
       "95 2023-02-21 12:15:00   91.91986\n",
       "96 2023-02-21 12:00:00   91.99712\n",
       "97 2023-02-21 11:45:00   92.08312\n",
       "98 2023-02-21 11:30:00   92.15912\n",
       "99 2023-02-21 11:15:00   92.23764\n",
       "\n",
       "[100 rows x 2 columns]"
      ]
     },
     "execution_count": 10,
     "metadata": {},
     "output_type": "execute_result"
    }
   ],
   "source": [
    "indicator1(script_data['GOOGL'], 5)"
   ]
  },
  {
   "cell_type": "code",
   "execution_count": 11,
   "id": "89d44cce",
   "metadata": {},
   "outputs": [
    {
     "data": {
      "text/html": [
       "<div>\n",
       "<style scoped>\n",
       "    .dataframe tbody tr th:only-of-type {\n",
       "        vertical-align: middle;\n",
       "    }\n",
       "\n",
       "    .dataframe tbody tr th {\n",
       "        vertical-align: top;\n",
       "    }\n",
       "\n",
       "    .dataframe thead th {\n",
       "        text-align: right;\n",
       "    }\n",
       "</style>\n",
       "<table border=\"1\" class=\"dataframe\">\n",
       "  <thead>\n",
       "    <tr style=\"text-align: right;\">\n",
       "      <th></th>\n",
       "      <th>timestamp</th>\n",
       "      <th>indicator</th>\n",
       "    </tr>\n",
       "  </thead>\n",
       "  <tbody>\n",
       "    <tr>\n",
       "      <th>0</th>\n",
       "      <td>2023-02-22 20:00:00</td>\n",
       "      <td>NaN</td>\n",
       "    </tr>\n",
       "    <tr>\n",
       "      <th>1</th>\n",
       "      <td>2023-02-22 19:45:00</td>\n",
       "      <td>NaN</td>\n",
       "    </tr>\n",
       "    <tr>\n",
       "      <th>2</th>\n",
       "      <td>2023-02-22 19:30:00</td>\n",
       "      <td>NaN</td>\n",
       "    </tr>\n",
       "    <tr>\n",
       "      <th>3</th>\n",
       "      <td>2023-02-22 19:15:00</td>\n",
       "      <td>NaN</td>\n",
       "    </tr>\n",
       "    <tr>\n",
       "      <th>4</th>\n",
       "      <td>2023-02-22 19:00:00</td>\n",
       "      <td>149.19600</td>\n",
       "    </tr>\n",
       "    <tr>\n",
       "      <th>...</th>\n",
       "      <td>...</td>\n",
       "      <td>...</td>\n",
       "    </tr>\n",
       "    <tr>\n",
       "      <th>95</th>\n",
       "      <td>2023-02-21 12:15:00</td>\n",
       "      <td>149.82050</td>\n",
       "    </tr>\n",
       "    <tr>\n",
       "      <th>96</th>\n",
       "      <td>2023-02-21 12:00:00</td>\n",
       "      <td>149.84252</td>\n",
       "    </tr>\n",
       "    <tr>\n",
       "      <th>97</th>\n",
       "      <td>2023-02-21 11:45:00</td>\n",
       "      <td>149.79952</td>\n",
       "    </tr>\n",
       "    <tr>\n",
       "      <th>98</th>\n",
       "      <td>2023-02-21 11:30:00</td>\n",
       "      <td>149.71152</td>\n",
       "    </tr>\n",
       "    <tr>\n",
       "      <th>99</th>\n",
       "      <td>2023-02-21 11:15:00</td>\n",
       "      <td>149.73114</td>\n",
       "    </tr>\n",
       "  </tbody>\n",
       "</table>\n",
       "<p>100 rows × 2 columns</p>\n",
       "</div>"
      ],
      "text/plain": [
       "             timestamp  indicator\n",
       "0  2023-02-22 20:00:00        NaN\n",
       "1  2023-02-22 19:45:00        NaN\n",
       "2  2023-02-22 19:30:00        NaN\n",
       "3  2023-02-22 19:15:00        NaN\n",
       "4  2023-02-22 19:00:00  149.19600\n",
       "..                 ...        ...\n",
       "95 2023-02-21 12:15:00  149.82050\n",
       "96 2023-02-21 12:00:00  149.84252\n",
       "97 2023-02-21 11:45:00  149.79952\n",
       "98 2023-02-21 11:30:00  149.71152\n",
       "99 2023-02-21 11:15:00  149.73114\n",
       "\n",
       "[100 rows x 2 columns]"
      ]
     },
     "execution_count": 11,
     "metadata": {},
     "output_type": "execute_result"
    }
   ],
   "source": [
    "indicator1(script_data['AAPL'], 5)"
   ]
  },
  {
   "cell_type": "code",
   "execution_count": 12,
   "id": "67ea7d7d",
   "metadata": {},
   "outputs": [],
   "source": [
    "class Strategy:\n",
    "\n",
    "    def __init__(self, script, intraday_data={}):\n",
    "        self.script = script\n",
    "        self.intraday_data = intraday_data\n",
    "    \n",
    "    # fetches data from class ScriptData and stores it\n",
    "    def get_script_data(self):\n",
    "        script_data.fetch_intraday_data(self.script)\n",
    "        script_data.convert_intraday_data(self.script)\n",
    "        self.intraday_data = script_data[self.script]\n",
    "\n",
    "    # returns a pandas DataFrame providing with BUY/SELL signal comparing indicator data and closing data of scripts\n",
    "    def get_signals(self):\n",
    "        indicator_data = indicator1(self.intraday_data, 5)\n",
    "        indicator_data['close_data'] = self.intraday_data.loc[:, 'close']\n",
    "    \n",
    "        # BUY when following indicator_data is greater than following close_data and previous indicator_data is less than previous close_data\n",
    "        buy_condition = (indicator_data['indicator'].shift() > indicator_data['close_data'].shift()) & (indicator_data['indicator'].shift(-1) < indicator_data['close_data'].shift(-1))\n",
    "\n",
    "        # SELL when previous indicator_data is greater than previous close_data and following indicator_data is less than following close_data\n",
    "        sell_condition = (indicator_data['indicator'].shift(-1) > indicator_data['close_data'].shift(-1)) & (indicator_data['indicator'].shift() < indicator_data['close_data'].shift())\n",
    "\n",
    "        # NO SIGNAL otherwise\n",
    "        indicator_data['signal'] = np.select([buy_condition, sell_condition, True], ['BUY', 'SELL', 'NO SIGNAL'])\n",
    "\n",
    "        # New dataframe 'signals' with columns 'timestamp' and 'signal' tracking only BUY/SELL rows \n",
    "        signals = indicator_data.loc[:, ['timestamp', 'signal']]\n",
    "        signals.drop(signals[signals.signal=='NO SIGNAL'].index, inplace = True)\n",
    "        signals.reset_index(drop=True, inplace = True)\n",
    "    \n",
    "        return signals"
   ]
  },
  {
   "cell_type": "code",
   "execution_count": 13,
   "id": "c0192486",
   "metadata": {},
   "outputs": [
    {
     "data": {
      "text/html": [
       "<div>\n",
       "<style scoped>\n",
       "    .dataframe tbody tr th:only-of-type {\n",
       "        vertical-align: middle;\n",
       "    }\n",
       "\n",
       "    .dataframe tbody tr th {\n",
       "        vertical-align: top;\n",
       "    }\n",
       "\n",
       "    .dataframe thead th {\n",
       "        text-align: right;\n",
       "    }\n",
       "</style>\n",
       "<table border=\"1\" class=\"dataframe\">\n",
       "  <thead>\n",
       "    <tr style=\"text-align: right;\">\n",
       "      <th></th>\n",
       "      <th>timestamp</th>\n",
       "      <th>signal</th>\n",
       "    </tr>\n",
       "  </thead>\n",
       "  <tbody>\n",
       "    <tr>\n",
       "      <th>0</th>\n",
       "      <td>2023-02-22 18:30:00</td>\n",
       "      <td>SELL</td>\n",
       "    </tr>\n",
       "    <tr>\n",
       "      <th>1</th>\n",
       "      <td>2023-02-22 17:30:00</td>\n",
       "      <td>BUY</td>\n",
       "    </tr>\n",
       "    <tr>\n",
       "      <th>2</th>\n",
       "      <td>2023-02-22 17:00:00</td>\n",
       "      <td>SELL</td>\n",
       "    </tr>\n",
       "    <tr>\n",
       "      <th>3</th>\n",
       "      <td>2023-02-22 15:00:00</td>\n",
       "      <td>BUY</td>\n",
       "    </tr>\n",
       "    <tr>\n",
       "      <th>4</th>\n",
       "      <td>2023-02-22 14:45:00</td>\n",
       "      <td>BUY</td>\n",
       "    </tr>\n",
       "    <tr>\n",
       "      <th>5</th>\n",
       "      <td>2023-02-22 13:30:00</td>\n",
       "      <td>SELL</td>\n",
       "    </tr>\n",
       "    <tr>\n",
       "      <th>6</th>\n",
       "      <td>2023-02-22 13:15:00</td>\n",
       "      <td>SELL</td>\n",
       "    </tr>\n",
       "    <tr>\n",
       "      <th>7</th>\n",
       "      <td>2023-02-22 10:30:00</td>\n",
       "      <td>BUY</td>\n",
       "    </tr>\n",
       "    <tr>\n",
       "      <th>8</th>\n",
       "      <td>2023-02-22 10:15:00</td>\n",
       "      <td>BUY</td>\n",
       "    </tr>\n",
       "    <tr>\n",
       "      <th>9</th>\n",
       "      <td>2023-02-22 09:45:00</td>\n",
       "      <td>SELL</td>\n",
       "    </tr>\n",
       "    <tr>\n",
       "      <th>10</th>\n",
       "      <td>2023-02-22 09:30:00</td>\n",
       "      <td>SELL</td>\n",
       "    </tr>\n",
       "    <tr>\n",
       "      <th>11</th>\n",
       "      <td>2023-02-22 08:15:00</td>\n",
       "      <td>BUY</td>\n",
       "    </tr>\n",
       "    <tr>\n",
       "      <th>12</th>\n",
       "      <td>2023-02-22 08:00:00</td>\n",
       "      <td>BUY</td>\n",
       "    </tr>\n",
       "    <tr>\n",
       "      <th>13</th>\n",
       "      <td>2023-02-22 07:45:00</td>\n",
       "      <td>SELL</td>\n",
       "    </tr>\n",
       "    <tr>\n",
       "      <th>14</th>\n",
       "      <td>2023-02-22 07:30:00</td>\n",
       "      <td>SELL</td>\n",
       "    </tr>\n",
       "    <tr>\n",
       "      <th>15</th>\n",
       "      <td>2023-02-22 06:15:00</td>\n",
       "      <td>BUY</td>\n",
       "    </tr>\n",
       "    <tr>\n",
       "      <th>16</th>\n",
       "      <td>2023-02-22 06:00:00</td>\n",
       "      <td>BUY</td>\n",
       "    </tr>\n",
       "    <tr>\n",
       "      <th>17</th>\n",
       "      <td>2023-02-22 05:45:00</td>\n",
       "      <td>SELL</td>\n",
       "    </tr>\n",
       "    <tr>\n",
       "      <th>18</th>\n",
       "      <td>2023-02-22 05:30:00</td>\n",
       "      <td>SELL</td>\n",
       "    </tr>\n",
       "    <tr>\n",
       "      <th>19</th>\n",
       "      <td>2023-02-22 04:45:00</td>\n",
       "      <td>BUY</td>\n",
       "    </tr>\n",
       "    <tr>\n",
       "      <th>20</th>\n",
       "      <td>2023-02-22 04:30:00</td>\n",
       "      <td>BUY</td>\n",
       "    </tr>\n",
       "    <tr>\n",
       "      <th>21</th>\n",
       "      <td>2023-02-21 19:30:00</td>\n",
       "      <td>SELL</td>\n",
       "    </tr>\n",
       "    <tr>\n",
       "      <th>22</th>\n",
       "      <td>2023-02-21 19:15:00</td>\n",
       "      <td>SELL</td>\n",
       "    </tr>\n",
       "    <tr>\n",
       "      <th>23</th>\n",
       "      <td>2023-02-21 18:30:00</td>\n",
       "      <td>BUY</td>\n",
       "    </tr>\n",
       "    <tr>\n",
       "      <th>24</th>\n",
       "      <td>2023-02-21 18:15:00</td>\n",
       "      <td>BUY</td>\n",
       "    </tr>\n",
       "    <tr>\n",
       "      <th>25</th>\n",
       "      <td>2023-02-21 16:30:00</td>\n",
       "      <td>SELL</td>\n",
       "    </tr>\n",
       "    <tr>\n",
       "      <th>26</th>\n",
       "      <td>2023-02-21 16:15:00</td>\n",
       "      <td>SELL</td>\n",
       "    </tr>\n",
       "    <tr>\n",
       "      <th>27</th>\n",
       "      <td>2023-02-21 16:00:00</td>\n",
       "      <td>BUY</td>\n",
       "    </tr>\n",
       "    <tr>\n",
       "      <th>28</th>\n",
       "      <td>2023-02-21 15:45:00</td>\n",
       "      <td>BUY</td>\n",
       "    </tr>\n",
       "    <tr>\n",
       "      <th>29</th>\n",
       "      <td>2023-02-21 13:00:00</td>\n",
       "      <td>SELL</td>\n",
       "    </tr>\n",
       "    <tr>\n",
       "      <th>30</th>\n",
       "      <td>2023-02-21 12:45:00</td>\n",
       "      <td>SELL</td>\n",
       "    </tr>\n",
       "    <tr>\n",
       "      <th>31</th>\n",
       "      <td>2023-02-21 12:00:00</td>\n",
       "      <td>BUY</td>\n",
       "    </tr>\n",
       "    <tr>\n",
       "      <th>32</th>\n",
       "      <td>2023-02-21 11:45:00</td>\n",
       "      <td>BUY</td>\n",
       "    </tr>\n",
       "  </tbody>\n",
       "</table>\n",
       "</div>"
      ],
      "text/plain": [
       "             timestamp signal\n",
       "0  2023-02-22 18:30:00   SELL\n",
       "1  2023-02-22 17:30:00    BUY\n",
       "2  2023-02-22 17:00:00   SELL\n",
       "3  2023-02-22 15:00:00    BUY\n",
       "4  2023-02-22 14:45:00    BUY\n",
       "5  2023-02-22 13:30:00   SELL\n",
       "6  2023-02-22 13:15:00   SELL\n",
       "7  2023-02-22 10:30:00    BUY\n",
       "8  2023-02-22 10:15:00    BUY\n",
       "9  2023-02-22 09:45:00   SELL\n",
       "10 2023-02-22 09:30:00   SELL\n",
       "11 2023-02-22 08:15:00    BUY\n",
       "12 2023-02-22 08:00:00    BUY\n",
       "13 2023-02-22 07:45:00   SELL\n",
       "14 2023-02-22 07:30:00   SELL\n",
       "15 2023-02-22 06:15:00    BUY\n",
       "16 2023-02-22 06:00:00    BUY\n",
       "17 2023-02-22 05:45:00   SELL\n",
       "18 2023-02-22 05:30:00   SELL\n",
       "19 2023-02-22 04:45:00    BUY\n",
       "20 2023-02-22 04:30:00    BUY\n",
       "21 2023-02-21 19:30:00   SELL\n",
       "22 2023-02-21 19:15:00   SELL\n",
       "23 2023-02-21 18:30:00    BUY\n",
       "24 2023-02-21 18:15:00    BUY\n",
       "25 2023-02-21 16:30:00   SELL\n",
       "26 2023-02-21 16:15:00   SELL\n",
       "27 2023-02-21 16:00:00    BUY\n",
       "28 2023-02-21 15:45:00    BUY\n",
       "29 2023-02-21 13:00:00   SELL\n",
       "30 2023-02-21 12:45:00   SELL\n",
       "31 2023-02-21 12:00:00    BUY\n",
       "32 2023-02-21 11:45:00    BUY"
      ]
     },
     "execution_count": 13,
     "metadata": {},
     "output_type": "execute_result"
    }
   ],
   "source": [
    "strategy = Strategy('NVDA')\n",
    "strategy.get_script_data()\n",
    "strategy.get_signals()"
   ]
  },
  {
   "cell_type": "code",
   "execution_count": 14,
   "metadata": {},
   "outputs": [],
   "source": [
    "from pyalgotrading.utils.func import plot_candlestick_chart\n",
    "from pyalgotrading.constants import PlotType"
   ]
  },
  {
   "cell_type": "code",
   "execution_count": 15,
   "id": "6f511946",
   "metadata": {},
   "outputs": [],
   "source": [
    "# function to plot a candlestick graph between script data(open, high, low, close, volume) and indicator data for a given script and timeperiod of indicator\n",
    "# uses plot_candlestick_chart function of pyalgotrading library for the same\n",
    "def plot_candlestick_graph(script, timeperiod):\n",
    "    df = script_data[script].sort_values(by='timestamp')\n",
    "    indicator_data = indicator1(script_data[script], 5).sort_values(by='timestamp')\n",
    "    plot_candlestick_chart(df, PlotType.HEIKINASHI, hide_missing_dates=True, show=True, indicators=[{'name': 'SMA', 'data': indicator_data['indicator']}])"
   ]
  },
  {
   "cell_type": "code",
   "execution_count": 16,
   "id": "d4da3cdb",
   "metadata": {},
   "outputs": [
    {
     "data": {
      "application/vnd.plotly.v1+json": {
       "config": {
        "plotlyServerURL": "https://plot.ly"
       },
       "data": [
        {
         "close": [
          92.3232,
          92.25,
          92.37,
          92.155,
          92.09,
          91.9306,
          91.87,
          91.94,
          91.7687,
          91.985,
          91.96,
          91.895,
          91.82,
          91.8636,
          92.035,
          91.995,
          92.04,
          92.18,
          92.0466,
          91.82,
          91.86,
          91.86,
          91.84,
          91.8789,
          91.848,
          91.78,
          91.72,
          91.75,
          91.75,
          91.85,
          91.84,
          91.92,
          91.95,
          91.84,
          91.86,
          91.82,
          91.96,
          91.91,
          91.61,
          91.87,
          91.81,
          91.74,
          91.78,
          91.82,
          91.78,
          91.75,
          91.67,
          91.82,
          92.07,
          92.11,
          92.2,
          92.13,
          92.06,
          91.95,
          91.95,
          91.93,
          91.88,
          91.64,
          91.87,
          91.52,
          91.01,
          91.06,
          91.633,
          91.75,
          91.51,
          91.44,
          91.7781,
          91.88,
          91.75,
          91.88,
          91.92,
          91.9867,
          91.885,
          92.035,
          91.8475,
          91.815,
          91.7,
          91.72,
          91.65,
          91.51,
          91.6601,
          91.7,
          91.59,
          91.7,
          91.67,
          91.68,
          91.7996,
          91.91,
          91.8516,
          91.8521,
          91.8868,
          91.87,
          91.73,
          91.74,
          91.82,
          91.84,
          91.89,
          91.94,
          91.84,
          92.03
         ],
         "high": [
          92.42,
          92.3368,
          92.39,
          92.4,
          92.33,
          92.13,
          91.99,
          91.9707,
          92.03,
          91.99,
          92.015,
          91.99,
          91.915,
          91.885,
          92.08,
          92.07,
          92.12,
          92.23,
          92.27,
          92.125,
          91.96,
          91.86,
          91.88,
          91.88,
          91.88,
          91.81,
          91.77,
          91.76,
          91.81,
          91.85,
          91.85,
          91.92,
          91.97,
          91.94,
          91.89,
          91.92,
          91.97,
          91.95,
          91.81,
          91.96,
          91.85,
          91.83,
          91.78,
          91.82,
          91.78,
          91.78,
          91.76,
          91.86,
          92.1,
          92.12,
          92.2,
          92.15,
          92.3,
          92.18,
          92.09,
          92.06,
          92.0586,
          91.9,
          92.0857,
          91.99,
          91.525,
          91.195,
          91.6399,
          92.01,
          91.9722,
          91.58,
          91.7804,
          91.89,
          91.88,
          92.01,
          92.04,
          92.04,
          92.055,
          92.065,
          92.11,
          91.9473,
          92.11,
          91.96,
          91.8,
          91.94,
          91.75,
          91.8901,
          91.8676,
          91.78,
          91.82,
          91.74,
          91.83,
          92.1,
          91.94,
          91.95,
          91.9,
          91.9,
          91.9,
          91.84,
          91.8399,
          91.84,
          91.93,
          91.95,
          91.96,
          92.03
         ],
         "low": [
          92.1999,
          92.16,
          92.075,
          92.12,
          92.04,
          91.85,
          91.7933,
          91.81,
          91.74,
          91.75,
          91.87,
          91.86,
          91.75,
          91.72,
          91.825,
          91.865,
          91.93,
          91.97,
          91.93,
          91.76,
          91.76,
          91.79,
          91.8,
          91.85,
          91.81,
          91.76,
          91.72,
          91.72,
          91.7,
          91.75,
          91.7501,
          91.75,
          91.78,
          91.84,
          91.79,
          91.8,
          91.7,
          91.85,
          91.61,
          91.76,
          91.8,
          91.74,
          91.78,
          91.82,
          91.75,
          91.75,
          91.61,
          91.67,
          91.8,
          92.05,
          92.09,
          92.09,
          91.7,
          91.95,
          91.89,
          91.9,
          91.85,
          91.56,
          91.6,
          91.44,
          90.88,
          90.61,
          90.86,
          91.62,
          91.48,
          91.425,
          91.43,
          91.59,
          91.7,
          91.75,
          91.86,
          91.86,
          91.8361,
          91.8,
          91.81,
          91.775,
          91.44,
          91.4,
          91.47,
          91.42,
          91.47,
          91.63,
          91.53,
          91.46,
          91.55,
          91.67,
          91.65,
          91.65,
          91.82,
          91.81,
          91.7603,
          91.8013,
          91.69,
          91.73,
          91.76,
          91.75,
          91.81,
          91.85,
          91.83,
          91.81
         ],
         "name": "Historical Data",
         "open": [
          92.31,
          92.3268,
          92.26,
          92.38,
          92.15,
          92.095,
          91.93,
          91.86,
          91.94,
          91.76,
          91.99,
          91.96,
          91.9,
          91.81,
          91.87,
          92.03,
          91.995,
          92.04,
          92.18,
          92.045,
          91.79,
          91.82,
          91.85,
          91.85,
          91.88,
          91.79,
          91.77,
          91.72,
          91.76,
          91.75,
          91.7501,
          91.83,
          91.78,
          91.87,
          91.8,
          91.85,
          91.74,
          91.95,
          91.79,
          91.76,
          91.85,
          91.83,
          91.78,
          91.82,
          91.78,
          91.78,
          91.75,
          91.69,
          91.85,
          92.05,
          92.11,
          92.15,
          91.83,
          92.18,
          92,
          91.9,
          91.93,
          91.88,
          91.7,
          91.88,
          91.525,
          91.01,
          91.055,
          91.6331,
          91.765,
          91.5128,
          91.45,
          91.76,
          91.88,
          91.76,
          91.88,
          91.92,
          91.985,
          91.89,
          92.05,
          91.85,
          91.82,
          91.69,
          91.72,
          91.655,
          91.51,
          91.67,
          91.705,
          91.59,
          91.65,
          91.69,
          91.67,
          91.75,
          91.82,
          91.8501,
          91.85,
          91.86,
          91.86,
          91.8,
          91.8,
          91.82,
          91.84,
          91.89,
          91.95,
          91.9
         ],
         "type": "candlestick",
         "x": [
          "21/02 11:15",
          "21/02 11:30",
          "21/02 11:45",
          "21/02 12:00",
          "21/02 12:15",
          "21/02 12:30",
          "21/02 12:45",
          "21/02 13:00",
          "21/02 13:15",
          "21/02 13:30",
          "21/02 13:45",
          "21/02 14:00",
          "21/02 14:15",
          "21/02 14:30",
          "21/02 14:45",
          "21/02 15:00",
          "21/02 15:15",
          "21/02 15:30",
          "21/02 15:45",
          "21/02 16:00",
          "21/02 16:15",
          "21/02 16:30",
          "21/02 16:45",
          "21/02 17:00",
          "21/02 17:15",
          "21/02 17:30",
          "21/02 17:45",
          "21/02 18:00",
          "21/02 18:15",
          "21/02 18:30",
          "21/02 18:45",
          "21/02 19:00",
          "21/02 19:15",
          "21/02 19:30",
          "21/02 19:45",
          "21/02 20:00",
          "22/02 04:15",
          "22/02 04:30",
          "22/02 04:45",
          "22/02 05:00",
          "22/02 05:15",
          "22/02 05:30",
          "22/02 05:45",
          "22/02 06:00",
          "22/02 06:15",
          "22/02 06:30",
          "22/02 06:45",
          "22/02 07:00",
          "22/02 07:15",
          "22/02 07:30",
          "22/02 07:45",
          "22/02 08:00",
          "22/02 08:15",
          "22/02 08:30",
          "22/02 08:45",
          "22/02 09:00",
          "22/02 09:15",
          "22/02 09:30",
          "22/02 09:45",
          "22/02 10:00",
          "22/02 10:15",
          "22/02 10:30",
          "22/02 10:45",
          "22/02 11:00",
          "22/02 11:15",
          "22/02 11:30",
          "22/02 11:45",
          "22/02 12:00",
          "22/02 12:15",
          "22/02 12:30",
          "22/02 12:45",
          "22/02 13:00",
          "22/02 13:15",
          "22/02 13:30",
          "22/02 13:45",
          "22/02 14:00",
          "22/02 14:15",
          "22/02 14:30",
          "22/02 14:45",
          "22/02 15:00",
          "22/02 15:15",
          "22/02 15:30",
          "22/02 15:45",
          "22/02 16:00",
          "22/02 16:15",
          "22/02 16:30",
          "22/02 16:45",
          "22/02 17:00",
          "22/02 17:15",
          "22/02 17:30",
          "22/02 17:45",
          "22/02 18:00",
          "22/02 18:15",
          "22/02 18:30",
          "22/02 18:45",
          "22/02 19:00",
          "22/02 19:15",
          "22/02 19:30",
          "22/02 19:45",
          "22/02 20:00"
         ],
         "xaxis": "x",
         "yaxis": "y"
        },
        {
         "name": "SMA",
         "type": "scatter",
         "x": [
          "21/02 11:15",
          "21/02 11:30",
          "21/02 11:45",
          "21/02 12:00",
          "21/02 12:15",
          "21/02 12:30",
          "21/02 12:45",
          "21/02 13:00",
          "21/02 13:15",
          "21/02 13:30",
          "21/02 13:45",
          "21/02 14:00",
          "21/02 14:15",
          "21/02 14:30",
          "21/02 14:45",
          "21/02 15:00",
          "21/02 15:15",
          "21/02 15:30",
          "21/02 15:45",
          "21/02 16:00",
          "21/02 16:15",
          "21/02 16:30",
          "21/02 16:45",
          "21/02 17:00",
          "21/02 17:15",
          "21/02 17:30",
          "21/02 17:45",
          "21/02 18:00",
          "21/02 18:15",
          "21/02 18:30",
          "21/02 18:45",
          "21/02 19:00",
          "21/02 19:15",
          "21/02 19:30",
          "21/02 19:45",
          "21/02 20:00",
          "22/02 04:15",
          "22/02 04:30",
          "22/02 04:45",
          "22/02 05:00",
          "22/02 05:15",
          "22/02 05:30",
          "22/02 05:45",
          "22/02 06:00",
          "22/02 06:15",
          "22/02 06:30",
          "22/02 06:45",
          "22/02 07:00",
          "22/02 07:15",
          "22/02 07:30",
          "22/02 07:45",
          "22/02 08:00",
          "22/02 08:15",
          "22/02 08:30",
          "22/02 08:45",
          "22/02 09:00",
          "22/02 09:15",
          "22/02 09:30",
          "22/02 09:45",
          "22/02 10:00",
          "22/02 10:15",
          "22/02 10:30",
          "22/02 10:45",
          "22/02 11:00",
          "22/02 11:15",
          "22/02 11:30",
          "22/02 11:45",
          "22/02 12:00",
          "22/02 12:15",
          "22/02 12:30",
          "22/02 12:45",
          "22/02 13:00",
          "22/02 13:15",
          "22/02 13:30",
          "22/02 13:45",
          "22/02 14:00",
          "22/02 14:15",
          "22/02 14:30",
          "22/02 14:45",
          "22/02 15:00",
          "22/02 15:15",
          "22/02 15:30",
          "22/02 15:45",
          "22/02 16:00",
          "22/02 16:15",
          "22/02 16:30",
          "22/02 16:45",
          "22/02 17:00",
          "22/02 17:15",
          "22/02 17:30",
          "22/02 17:45",
          "22/02 18:00",
          "22/02 18:15",
          "22/02 18:30",
          "22/02 18:45",
          "22/02 19:00",
          "22/02 19:15",
          "22/02 19:30",
          "22/02 19:45",
          "22/02 20:00"
         ],
         "xaxis": "x",
         "y": [
          92.23764,
          92.15912,
          92.08312000000001,
          91.99712000000001,
          91.91986,
          91.89886,
          91.90473999999999,
          91.90974,
          91.88573999999998,
          91.90472,
          91.91472,
          91.92172000000001,
          91.95072,
          92.02272,
          92.05932,
          92.01632,
          91.98931999999999,
          91.95332,
          91.88532000000001,
          91.85177999999999,
          91.85738,
          91.84138,
          91.81338,
          91.79538,
          91.7696,
          91.77000000000001,
          91.782,
          91.822,
          91.862,
          91.88000000000001,
          91.882,
          91.87800000000001,
          91.886,
          91.878,
          91.832,
          91.83399999999999,
          91.832,
          91.788,
          91.762,
          91.804,
          91.786,
          91.774,
          91.75999999999999,
          91.768,
          91.818,
          91.88399999999999,
          91.974,
          92.066,
          92.11399999999999,
          92.09,
          92.058,
          92.00399999999999,
          91.954,
          91.87,
          91.854,
          91.768,
          91.584,
          91.42,
          91.4186,
          91.3946,
          91.39259999999999,
          91.4786,
          91.62222,
          91.67161999999999,
          91.67161999999999,
          91.74562,
          91.84162,
          91.88334,
          91.88434,
          91.94134,
          91.93484,
          91.91384,
          91.85650000000001,
          91.8235,
          91.7465,
          91.679,
          91.64802,
          91.64802,
          91.62202,
          91.63202,
          91.66402000000001,
          91.668,
          91.68792,
          91.75192,
          91.78224,
          91.81866,
          91.86001999999999,
          91.8741,
          91.8381,
          91.81577999999999,
          91.80936,
          91.8,
          91.804,
          91.846,
          91.866,
          91.908,
          null,
          null,
          null,
          null
         ],
         "yaxis": "y"
        }
       ],
       "layout": {
        "height": 500,
        "template": {
         "data": {
          "bar": [
           {
            "error_x": {
             "color": "#2a3f5f"
            },
            "error_y": {
             "color": "#2a3f5f"
            },
            "marker": {
             "line": {
              "color": "#E5ECF6",
              "width": 0.5
             }
            },
            "type": "bar"
           }
          ],
          "barpolar": [
           {
            "marker": {
             "line": {
              "color": "#E5ECF6",
              "width": 0.5
             }
            },
            "type": "barpolar"
           }
          ],
          "carpet": [
           {
            "aaxis": {
             "endlinecolor": "#2a3f5f",
             "gridcolor": "white",
             "linecolor": "white",
             "minorgridcolor": "white",
             "startlinecolor": "#2a3f5f"
            },
            "baxis": {
             "endlinecolor": "#2a3f5f",
             "gridcolor": "white",
             "linecolor": "white",
             "minorgridcolor": "white",
             "startlinecolor": "#2a3f5f"
            },
            "type": "carpet"
           }
          ],
          "choropleth": [
           {
            "colorbar": {
             "outlinewidth": 0,
             "ticks": ""
            },
            "type": "choropleth"
           }
          ],
          "contour": [
           {
            "colorbar": {
             "outlinewidth": 0,
             "ticks": ""
            },
            "colorscale": [
             [
              0,
              "#0d0887"
             ],
             [
              0.1111111111111111,
              "#46039f"
             ],
             [
              0.2222222222222222,
              "#7201a8"
             ],
             [
              0.3333333333333333,
              "#9c179e"
             ],
             [
              0.4444444444444444,
              "#bd3786"
             ],
             [
              0.5555555555555556,
              "#d8576b"
             ],
             [
              0.6666666666666666,
              "#ed7953"
             ],
             [
              0.7777777777777778,
              "#fb9f3a"
             ],
             [
              0.8888888888888888,
              "#fdca26"
             ],
             [
              1,
              "#f0f921"
             ]
            ],
            "type": "contour"
           }
          ],
          "contourcarpet": [
           {
            "colorbar": {
             "outlinewidth": 0,
             "ticks": ""
            },
            "type": "contourcarpet"
           }
          ],
          "heatmap": [
           {
            "colorbar": {
             "outlinewidth": 0,
             "ticks": ""
            },
            "colorscale": [
             [
              0,
              "#0d0887"
             ],
             [
              0.1111111111111111,
              "#46039f"
             ],
             [
              0.2222222222222222,
              "#7201a8"
             ],
             [
              0.3333333333333333,
              "#9c179e"
             ],
             [
              0.4444444444444444,
              "#bd3786"
             ],
             [
              0.5555555555555556,
              "#d8576b"
             ],
             [
              0.6666666666666666,
              "#ed7953"
             ],
             [
              0.7777777777777778,
              "#fb9f3a"
             ],
             [
              0.8888888888888888,
              "#fdca26"
             ],
             [
              1,
              "#f0f921"
             ]
            ],
            "type": "heatmap"
           }
          ],
          "heatmapgl": [
           {
            "colorbar": {
             "outlinewidth": 0,
             "ticks": ""
            },
            "colorscale": [
             [
              0,
              "#0d0887"
             ],
             [
              0.1111111111111111,
              "#46039f"
             ],
             [
              0.2222222222222222,
              "#7201a8"
             ],
             [
              0.3333333333333333,
              "#9c179e"
             ],
             [
              0.4444444444444444,
              "#bd3786"
             ],
             [
              0.5555555555555556,
              "#d8576b"
             ],
             [
              0.6666666666666666,
              "#ed7953"
             ],
             [
              0.7777777777777778,
              "#fb9f3a"
             ],
             [
              0.8888888888888888,
              "#fdca26"
             ],
             [
              1,
              "#f0f921"
             ]
            ],
            "type": "heatmapgl"
           }
          ],
          "histogram": [
           {
            "marker": {
             "colorbar": {
              "outlinewidth": 0,
              "ticks": ""
             }
            },
            "type": "histogram"
           }
          ],
          "histogram2d": [
           {
            "colorbar": {
             "outlinewidth": 0,
             "ticks": ""
            },
            "colorscale": [
             [
              0,
              "#0d0887"
             ],
             [
              0.1111111111111111,
              "#46039f"
             ],
             [
              0.2222222222222222,
              "#7201a8"
             ],
             [
              0.3333333333333333,
              "#9c179e"
             ],
             [
              0.4444444444444444,
              "#bd3786"
             ],
             [
              0.5555555555555556,
              "#d8576b"
             ],
             [
              0.6666666666666666,
              "#ed7953"
             ],
             [
              0.7777777777777778,
              "#fb9f3a"
             ],
             [
              0.8888888888888888,
              "#fdca26"
             ],
             [
              1,
              "#f0f921"
             ]
            ],
            "type": "histogram2d"
           }
          ],
          "histogram2dcontour": [
           {
            "colorbar": {
             "outlinewidth": 0,
             "ticks": ""
            },
            "colorscale": [
             [
              0,
              "#0d0887"
             ],
             [
              0.1111111111111111,
              "#46039f"
             ],
             [
              0.2222222222222222,
              "#7201a8"
             ],
             [
              0.3333333333333333,
              "#9c179e"
             ],
             [
              0.4444444444444444,
              "#bd3786"
             ],
             [
              0.5555555555555556,
              "#d8576b"
             ],
             [
              0.6666666666666666,
              "#ed7953"
             ],
             [
              0.7777777777777778,
              "#fb9f3a"
             ],
             [
              0.8888888888888888,
              "#fdca26"
             ],
             [
              1,
              "#f0f921"
             ]
            ],
            "type": "histogram2dcontour"
           }
          ],
          "mesh3d": [
           {
            "colorbar": {
             "outlinewidth": 0,
             "ticks": ""
            },
            "type": "mesh3d"
           }
          ],
          "parcoords": [
           {
            "line": {
             "colorbar": {
              "outlinewidth": 0,
              "ticks": ""
             }
            },
            "type": "parcoords"
           }
          ],
          "pie": [
           {
            "automargin": true,
            "type": "pie"
           }
          ],
          "scatter": [
           {
            "marker": {
             "colorbar": {
              "outlinewidth": 0,
              "ticks": ""
             }
            },
            "type": "scatter"
           }
          ],
          "scatter3d": [
           {
            "line": {
             "colorbar": {
              "outlinewidth": 0,
              "ticks": ""
             }
            },
            "marker": {
             "colorbar": {
              "outlinewidth": 0,
              "ticks": ""
             }
            },
            "type": "scatter3d"
           }
          ],
          "scattercarpet": [
           {
            "marker": {
             "colorbar": {
              "outlinewidth": 0,
              "ticks": ""
             }
            },
            "type": "scattercarpet"
           }
          ],
          "scattergeo": [
           {
            "marker": {
             "colorbar": {
              "outlinewidth": 0,
              "ticks": ""
             }
            },
            "type": "scattergeo"
           }
          ],
          "scattergl": [
           {
            "marker": {
             "colorbar": {
              "outlinewidth": 0,
              "ticks": ""
             }
            },
            "type": "scattergl"
           }
          ],
          "scattermapbox": [
           {
            "marker": {
             "colorbar": {
              "outlinewidth": 0,
              "ticks": ""
             }
            },
            "type": "scattermapbox"
           }
          ],
          "scatterpolar": [
           {
            "marker": {
             "colorbar": {
              "outlinewidth": 0,
              "ticks": ""
             }
            },
            "type": "scatterpolar"
           }
          ],
          "scatterpolargl": [
           {
            "marker": {
             "colorbar": {
              "outlinewidth": 0,
              "ticks": ""
             }
            },
            "type": "scatterpolargl"
           }
          ],
          "scatterternary": [
           {
            "marker": {
             "colorbar": {
              "outlinewidth": 0,
              "ticks": ""
             }
            },
            "type": "scatterternary"
           }
          ],
          "surface": [
           {
            "colorbar": {
             "outlinewidth": 0,
             "ticks": ""
            },
            "colorscale": [
             [
              0,
              "#0d0887"
             ],
             [
              0.1111111111111111,
              "#46039f"
             ],
             [
              0.2222222222222222,
              "#7201a8"
             ],
             [
              0.3333333333333333,
              "#9c179e"
             ],
             [
              0.4444444444444444,
              "#bd3786"
             ],
             [
              0.5555555555555556,
              "#d8576b"
             ],
             [
              0.6666666666666666,
              "#ed7953"
             ],
             [
              0.7777777777777778,
              "#fb9f3a"
             ],
             [
              0.8888888888888888,
              "#fdca26"
             ],
             [
              1,
              "#f0f921"
             ]
            ],
            "type": "surface"
           }
          ],
          "table": [
           {
            "cells": {
             "fill": {
              "color": "#EBF0F8"
             },
             "line": {
              "color": "white"
             }
            },
            "header": {
             "fill": {
              "color": "#C8D4E3"
             },
             "line": {
              "color": "white"
             }
            },
            "type": "table"
           }
          ]
         },
         "layout": {
          "annotationdefaults": {
           "arrowcolor": "#2a3f5f",
           "arrowhead": 0,
           "arrowwidth": 1
          },
          "coloraxis": {
           "colorbar": {
            "outlinewidth": 0,
            "ticks": ""
           }
          },
          "colorscale": {
           "diverging": [
            [
             0,
             "#8e0152"
            ],
            [
             0.1,
             "#c51b7d"
            ],
            [
             0.2,
             "#de77ae"
            ],
            [
             0.3,
             "#f1b6da"
            ],
            [
             0.4,
             "#fde0ef"
            ],
            [
             0.5,
             "#f7f7f7"
            ],
            [
             0.6,
             "#e6f5d0"
            ],
            [
             0.7,
             "#b8e186"
            ],
            [
             0.8,
             "#7fbc41"
            ],
            [
             0.9,
             "#4d9221"
            ],
            [
             1,
             "#276419"
            ]
           ],
           "sequential": [
            [
             0,
             "#0d0887"
            ],
            [
             0.1111111111111111,
             "#46039f"
            ],
            [
             0.2222222222222222,
             "#7201a8"
            ],
            [
             0.3333333333333333,
             "#9c179e"
            ],
            [
             0.4444444444444444,
             "#bd3786"
            ],
            [
             0.5555555555555556,
             "#d8576b"
            ],
            [
             0.6666666666666666,
             "#ed7953"
            ],
            [
             0.7777777777777778,
             "#fb9f3a"
            ],
            [
             0.8888888888888888,
             "#fdca26"
            ],
            [
             1,
             "#f0f921"
            ]
           ],
           "sequentialminus": [
            [
             0,
             "#0d0887"
            ],
            [
             0.1111111111111111,
             "#46039f"
            ],
            [
             0.2222222222222222,
             "#7201a8"
            ],
            [
             0.3333333333333333,
             "#9c179e"
            ],
            [
             0.4444444444444444,
             "#bd3786"
            ],
            [
             0.5555555555555556,
             "#d8576b"
            ],
            [
             0.6666666666666666,
             "#ed7953"
            ],
            [
             0.7777777777777778,
             "#fb9f3a"
            ],
            [
             0.8888888888888888,
             "#fdca26"
            ],
            [
             1,
             "#f0f921"
            ]
           ]
          },
          "colorway": [
           "#636efa",
           "#EF553B",
           "#00cc96",
           "#ab63fa",
           "#FFA15A",
           "#19d3f3",
           "#FF6692",
           "#B6E880",
           "#FF97FF",
           "#FECB52"
          ],
          "font": {
           "color": "#2a3f5f"
          },
          "geo": {
           "bgcolor": "white",
           "lakecolor": "white",
           "landcolor": "#E5ECF6",
           "showlakes": true,
           "showland": true,
           "subunitcolor": "white"
          },
          "hoverlabel": {
           "align": "left"
          },
          "hovermode": "closest",
          "mapbox": {
           "style": "light"
          },
          "paper_bgcolor": "white",
          "plot_bgcolor": "#E5ECF6",
          "polar": {
           "angularaxis": {
            "gridcolor": "white",
            "linecolor": "white",
            "ticks": ""
           },
           "bgcolor": "#E5ECF6",
           "radialaxis": {
            "gridcolor": "white",
            "linecolor": "white",
            "ticks": ""
           }
          },
          "scene": {
           "xaxis": {
            "backgroundcolor": "#E5ECF6",
            "gridcolor": "white",
            "gridwidth": 2,
            "linecolor": "white",
            "showbackground": true,
            "ticks": "",
            "zerolinecolor": "white"
           },
           "yaxis": {
            "backgroundcolor": "#E5ECF6",
            "gridcolor": "white",
            "gridwidth": 2,
            "linecolor": "white",
            "showbackground": true,
            "ticks": "",
            "zerolinecolor": "white"
           },
           "zaxis": {
            "backgroundcolor": "#E5ECF6",
            "gridcolor": "white",
            "gridwidth": 2,
            "linecolor": "white",
            "showbackground": true,
            "ticks": "",
            "zerolinecolor": "white"
           }
          },
          "shapedefaults": {
           "line": {
            "color": "#2a3f5f"
           }
          },
          "ternary": {
           "aaxis": {
            "gridcolor": "white",
            "linecolor": "white",
            "ticks": ""
           },
           "baxis": {
            "gridcolor": "white",
            "linecolor": "white",
            "ticks": ""
           },
           "bgcolor": "#E5ECF6",
           "caxis": {
            "gridcolor": "white",
            "linecolor": "white",
            "ticks": ""
           }
          },
          "title": {
           "x": 0.05
          },
          "xaxis": {
           "automargin": true,
           "gridcolor": "white",
           "linecolor": "white",
           "ticks": "",
           "title": {
            "standoff": 15
           },
           "zerolinecolor": "white",
           "zerolinewidth": 2
          },
          "yaxis": {
           "automargin": true,
           "gridcolor": "white",
           "linecolor": "white",
           "ticks": "",
           "title": {
            "standoff": 15
           },
           "zerolinecolor": "white",
           "zerolinewidth": 2
          }
         }
        },
        "title": {
         "text": "",
         "x": 0.5,
         "xanchor": "center",
         "y": 0.9,
         "yanchor": "bottom"
        },
        "width": 1000,
        "xaxis": {
         "anchor": "y",
         "domain": [
          0,
          1
         ],
         "rangeslider": {
          "visible": false
         },
         "type": "category"
        },
        "yaxis": {
         "anchor": "x",
         "domain": [
          0,
          1
         ]
        }
       }
      }
     },
     "metadata": {},
     "output_type": "display_data"
    }
   ],
   "source": [
    "plot_candlestick_graph('GOOGL', 5)"
   ]
  }
 ],
 "metadata": {
  "kernelspec": {
   "display_name": "venv",
   "language": "python",
   "name": "venv"
  },
  "language_info": {
   "codemirror_mode": {
    "name": "ipython",
    "version": 3
   },
   "file_extension": ".py",
   "mimetype": "text/x-python",
   "name": "python",
   "nbconvert_exporter": "python",
   "pygments_lexer": "ipython3",
   "version": "3.11.2"
  },
  "vscode": {
   "interpreter": {
    "hash": "897048407024866bfbbcb40991d13bb5365eeda868d88978e80d327b35728f9d"
   }
  }
 },
 "nbformat": 4,
 "nbformat_minor": 5
}
