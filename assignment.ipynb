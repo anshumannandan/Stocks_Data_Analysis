{
 "cells": [
  {
   "cell_type": "code",
   "execution_count": 1,
   "id": "6e7dc6f3",
   "metadata": {},
   "outputs": [],
   "source": [
    "import pandas as pd\n",
    "import numpy as np\n",
    "from alpha_vantage.timeseries import TimeSeries\n",
    "\n",
    "ts = TimeSeries(key='52KYU1B4HW8FCKX0')"
   ]
  },
  {
   "cell_type": "code",
   "execution_count": 2,
   "id": "84c370f3",
   "metadata": {},
   "outputs": [],
   "source": [
    "class ScriptData:\n",
    "\n",
    "    def __init__(self, fetched_data = {}, converted_data = {}):\n",
    "        self.fetched_data = fetched_data\n",
    "        self.converted_data = converted_data\n",
    "\n",
    "    def __getitem__(self, script):\n",
    "        # script : accepts script_name for converted_data and (script_name, 'fetched') for fetched_data\n",
    "        try:\n",
    "            script, data_type = script\n",
    "            try:\n",
    "                return self.fetched_data[script]\n",
    "            except KeyError:\n",
    "                return\n",
    "        except ValueError:\n",
    "            try:\n",
    "                return self.converted_data[script]\n",
    "            except KeyError:\n",
    "                return 'converted intraday data not available'\n",
    "\n",
    "    def __setitem__(self, script, data):\n",
    "        if type(data) is pd.DataFrame:\n",
    "            self.converted_data[script] = data\n",
    "        else:\n",
    "            self.fetched_data[script] = data\n",
    "\n",
    "    def __contains__(self, script):\n",
    "        if script in self.converted_data:\n",
    "            return True\n",
    "        return False\n",
    "\n",
    "    def fetch_intraday_data(self, script):\n",
    "        data, metadata = ts.get_intraday(symbol=script)\n",
    "        self[script] = data\n",
    "\n",
    "    def convert_intraday_data(self, script):\n",
    "        data = self[script, 'fetched']\n",
    "        if data is None:\n",
    "            return 'fetch data for this stock first'\n",
    "\n",
    "        # Arranging dataframe\n",
    "        df = pd.DataFrame(data).T\n",
    "        df.columns = ['open', 'high', 'low', 'close', 'volume']\n",
    "        df.insert(0, 'timestamp', df.index)\n",
    "        df.index = np.arange(len(data))\n",
    "\n",
    "        # Adopting appropriate datatypes\n",
    "        df = df.astype({'open': 'float', 'high': 'float', 'low': 'float', 'close': 'float', 'volume': 'int'})\n",
    "        df['timestamp'] = pd.to_datetime(df.timestamp)\n",
    "\n",
    "        self[script] = df"
   ]
  },
  {
   "cell_type": "code",
   "execution_count": 3,
   "id": "0a9f1820",
   "metadata": {},
   "outputs": [],
   "source": [
    "script_data = ScriptData()"
   ]
  },
  {
   "cell_type": "code",
   "execution_count": 4,
   "id": "10da1105",
   "metadata": {},
   "outputs": [
    {
     "data": {
      "text/html": [
       "<div>\n",
       "<style scoped>\n",
       "    .dataframe tbody tr th:only-of-type {\n",
       "        vertical-align: middle;\n",
       "    }\n",
       "\n",
       "    .dataframe tbody tr th {\n",
       "        vertical-align: top;\n",
       "    }\n",
       "\n",
       "    .dataframe thead th {\n",
       "        text-align: right;\n",
       "    }\n",
       "</style>\n",
       "<table border=\"1\" class=\"dataframe\">\n",
       "  <thead>\n",
       "    <tr style=\"text-align: right;\">\n",
       "      <th></th>\n",
       "      <th>timestamp</th>\n",
       "      <th>open</th>\n",
       "      <th>high</th>\n",
       "      <th>low</th>\n",
       "      <th>close</th>\n",
       "      <th>volume</th>\n",
       "    </tr>\n",
       "  </thead>\n",
       "  <tbody>\n",
       "    <tr>\n",
       "      <th>0</th>\n",
       "      <td>2023-02-15 20:00:00</td>\n",
       "      <td>97.0000</td>\n",
       "      <td>97.1200</td>\n",
       "      <td>97.000</td>\n",
       "      <td>97.1000</td>\n",
       "      <td>23421</td>\n",
       "    </tr>\n",
       "    <tr>\n",
       "      <th>1</th>\n",
       "      <td>2023-02-15 19:45:00</td>\n",
       "      <td>96.9399</td>\n",
       "      <td>97.0000</td>\n",
       "      <td>96.900</td>\n",
       "      <td>96.9800</td>\n",
       "      <td>24896</td>\n",
       "    </tr>\n",
       "    <tr>\n",
       "      <th>2</th>\n",
       "      <td>2023-02-15 19:30:00</td>\n",
       "      <td>97.0000</td>\n",
       "      <td>97.0100</td>\n",
       "      <td>96.910</td>\n",
       "      <td>96.9400</td>\n",
       "      <td>12484</td>\n",
       "    </tr>\n",
       "    <tr>\n",
       "      <th>3</th>\n",
       "      <td>2023-02-15 19:15:00</td>\n",
       "      <td>96.9300</td>\n",
       "      <td>97.0100</td>\n",
       "      <td>96.800</td>\n",
       "      <td>97.0000</td>\n",
       "      <td>23284</td>\n",
       "    </tr>\n",
       "    <tr>\n",
       "      <th>4</th>\n",
       "      <td>2023-02-15 19:00:00</td>\n",
       "      <td>96.9800</td>\n",
       "      <td>97.0000</td>\n",
       "      <td>96.930</td>\n",
       "      <td>96.9400</td>\n",
       "      <td>17077</td>\n",
       "    </tr>\n",
       "    <tr>\n",
       "      <th>...</th>\n",
       "      <td>...</td>\n",
       "      <td>...</td>\n",
       "      <td>...</td>\n",
       "      <td>...</td>\n",
       "      <td>...</td>\n",
       "      <td>...</td>\n",
       "    </tr>\n",
       "    <tr>\n",
       "      <th>95</th>\n",
       "      <td>2023-02-14 12:15:00</td>\n",
       "      <td>92.6600</td>\n",
       "      <td>93.0399</td>\n",
       "      <td>92.530</td>\n",
       "      <td>93.0350</td>\n",
       "      <td>1306004</td>\n",
       "    </tr>\n",
       "    <tr>\n",
       "      <th>96</th>\n",
       "      <td>2023-02-14 12:00:00</td>\n",
       "      <td>92.3300</td>\n",
       "      <td>92.7300</td>\n",
       "      <td>92.270</td>\n",
       "      <td>92.6607</td>\n",
       "      <td>1437391</td>\n",
       "    </tr>\n",
       "    <tr>\n",
       "      <th>97</th>\n",
       "      <td>2023-02-14 11:45:00</td>\n",
       "      <td>92.7400</td>\n",
       "      <td>92.7400</td>\n",
       "      <td>92.260</td>\n",
       "      <td>92.3531</td>\n",
       "      <td>1869190</td>\n",
       "    </tr>\n",
       "    <tr>\n",
       "      <th>98</th>\n",
       "      <td>2023-02-14 11:30:00</td>\n",
       "      <td>93.1400</td>\n",
       "      <td>93.2500</td>\n",
       "      <td>92.695</td>\n",
       "      <td>92.7300</td>\n",
       "      <td>1506119</td>\n",
       "    </tr>\n",
       "    <tr>\n",
       "      <th>99</th>\n",
       "      <td>2023-02-14 11:15:00</td>\n",
       "      <td>92.9399</td>\n",
       "      <td>93.4163</td>\n",
       "      <td>92.910</td>\n",
       "      <td>93.1400</td>\n",
       "      <td>1433731</td>\n",
       "    </tr>\n",
       "  </tbody>\n",
       "</table>\n",
       "<p>100 rows × 6 columns</p>\n",
       "</div>"
      ],
      "text/plain": [
       "             timestamp     open     high     low    close   volume\n",
       "0  2023-02-15 20:00:00  97.0000  97.1200  97.000  97.1000    23421\n",
       "1  2023-02-15 19:45:00  96.9399  97.0000  96.900  96.9800    24896\n",
       "2  2023-02-15 19:30:00  97.0000  97.0100  96.910  96.9400    12484\n",
       "3  2023-02-15 19:15:00  96.9300  97.0100  96.800  97.0000    23284\n",
       "4  2023-02-15 19:00:00  96.9800  97.0000  96.930  96.9400    17077\n",
       "..                 ...      ...      ...     ...      ...      ...\n",
       "95 2023-02-14 12:15:00  92.6600  93.0399  92.530  93.0350  1306004\n",
       "96 2023-02-14 12:00:00  92.3300  92.7300  92.270  92.6607  1437391\n",
       "97 2023-02-14 11:45:00  92.7400  92.7400  92.260  92.3531  1869190\n",
       "98 2023-02-14 11:30:00  93.1400  93.2500  92.695  92.7300  1506119\n",
       "99 2023-02-14 11:15:00  92.9399  93.4163  92.910  93.1400  1433731\n",
       "\n",
       "[100 rows x 6 columns]"
      ]
     },
     "execution_count": 4,
     "metadata": {},
     "output_type": "execute_result"
    }
   ],
   "source": [
    "script_data.fetch_intraday_data('GOOGL')\n",
    "script_data.convert_intraday_data('GOOGL')\n",
    "script_data['GOOGL']"
   ]
  },
  {
   "cell_type": "code",
   "execution_count": 5,
   "id": "5b82ca86",
   "metadata": {},
   "outputs": [
    {
     "data": {
      "text/html": [
       "<div>\n",
       "<style scoped>\n",
       "    .dataframe tbody tr th:only-of-type {\n",
       "        vertical-align: middle;\n",
       "    }\n",
       "\n",
       "    .dataframe tbody tr th {\n",
       "        vertical-align: top;\n",
       "    }\n",
       "\n",
       "    .dataframe thead th {\n",
       "        text-align: right;\n",
       "    }\n",
       "</style>\n",
       "<table border=\"1\" class=\"dataframe\">\n",
       "  <thead>\n",
       "    <tr style=\"text-align: right;\">\n",
       "      <th></th>\n",
       "      <th>timestamp</th>\n",
       "      <th>open</th>\n",
       "      <th>high</th>\n",
       "      <th>low</th>\n",
       "      <th>close</th>\n",
       "      <th>volume</th>\n",
       "    </tr>\n",
       "  </thead>\n",
       "  <tbody>\n",
       "    <tr>\n",
       "      <th>0</th>\n",
       "      <td>2023-02-15 20:00:00</td>\n",
       "      <td>155.4399</td>\n",
       "      <td>155.510</td>\n",
       "      <td>155.4399</td>\n",
       "      <td>155.4800</td>\n",
       "      <td>17287</td>\n",
       "    </tr>\n",
       "    <tr>\n",
       "      <th>1</th>\n",
       "      <td>2023-02-15 19:45:00</td>\n",
       "      <td>155.4600</td>\n",
       "      <td>155.500</td>\n",
       "      <td>155.4000</td>\n",
       "      <td>155.4000</td>\n",
       "      <td>19333</td>\n",
       "    </tr>\n",
       "    <tr>\n",
       "      <th>2</th>\n",
       "      <td>2023-02-15 19:30:00</td>\n",
       "      <td>155.4800</td>\n",
       "      <td>155.490</td>\n",
       "      <td>155.4400</td>\n",
       "      <td>155.4700</td>\n",
       "      <td>9288</td>\n",
       "    </tr>\n",
       "    <tr>\n",
       "      <th>3</th>\n",
       "      <td>2023-02-15 19:15:00</td>\n",
       "      <td>155.3100</td>\n",
       "      <td>155.500</td>\n",
       "      <td>155.3000</td>\n",
       "      <td>155.4800</td>\n",
       "      <td>18221</td>\n",
       "    </tr>\n",
       "    <tr>\n",
       "      <th>4</th>\n",
       "      <td>2023-02-15 19:00:00</td>\n",
       "      <td>155.3900</td>\n",
       "      <td>155.390</td>\n",
       "      <td>155.3200</td>\n",
       "      <td>155.3300</td>\n",
       "      <td>7452</td>\n",
       "    </tr>\n",
       "    <tr>\n",
       "      <th>...</th>\n",
       "      <td>...</td>\n",
       "      <td>...</td>\n",
       "      <td>...</td>\n",
       "      <td>...</td>\n",
       "      <td>...</td>\n",
       "      <td>...</td>\n",
       "    </tr>\n",
       "    <tr>\n",
       "      <th>95</th>\n",
       "      <td>2023-02-14 12:15:00</td>\n",
       "      <td>151.6950</td>\n",
       "      <td>152.120</td>\n",
       "      <td>151.5700</td>\n",
       "      <td>151.9700</td>\n",
       "      <td>1337676</td>\n",
       "    </tr>\n",
       "    <tr>\n",
       "      <th>96</th>\n",
       "      <td>2023-02-14 12:00:00</td>\n",
       "      <td>151.1300</td>\n",
       "      <td>151.830</td>\n",
       "      <td>151.1000</td>\n",
       "      <td>151.7000</td>\n",
       "      <td>1509483</td>\n",
       "    </tr>\n",
       "    <tr>\n",
       "      <th>97</th>\n",
       "      <td>2023-02-14 11:45:00</td>\n",
       "      <td>151.5500</td>\n",
       "      <td>152.030</td>\n",
       "      <td>151.0400</td>\n",
       "      <td>151.1400</td>\n",
       "      <td>2000947</td>\n",
       "    </tr>\n",
       "    <tr>\n",
       "      <th>98</th>\n",
       "      <td>2023-02-14 11:30:00</td>\n",
       "      <td>152.0300</td>\n",
       "      <td>152.590</td>\n",
       "      <td>151.4400</td>\n",
       "      <td>151.5418</td>\n",
       "      <td>1951865</td>\n",
       "    </tr>\n",
       "    <tr>\n",
       "      <th>99</th>\n",
       "      <td>2023-02-14 11:15:00</td>\n",
       "      <td>151.8800</td>\n",
       "      <td>152.495</td>\n",
       "      <td>151.8200</td>\n",
       "      <td>152.0400</td>\n",
       "      <td>2041841</td>\n",
       "    </tr>\n",
       "  </tbody>\n",
       "</table>\n",
       "<p>100 rows × 6 columns</p>\n",
       "</div>"
      ],
      "text/plain": [
       "             timestamp      open     high       low     close   volume\n",
       "0  2023-02-15 20:00:00  155.4399  155.510  155.4399  155.4800    17287\n",
       "1  2023-02-15 19:45:00  155.4600  155.500  155.4000  155.4000    19333\n",
       "2  2023-02-15 19:30:00  155.4800  155.490  155.4400  155.4700     9288\n",
       "3  2023-02-15 19:15:00  155.3100  155.500  155.3000  155.4800    18221\n",
       "4  2023-02-15 19:00:00  155.3900  155.390  155.3200  155.3300     7452\n",
       "..                 ...       ...      ...       ...       ...      ...\n",
       "95 2023-02-14 12:15:00  151.6950  152.120  151.5700  151.9700  1337676\n",
       "96 2023-02-14 12:00:00  151.1300  151.830  151.1000  151.7000  1509483\n",
       "97 2023-02-14 11:45:00  151.5500  152.030  151.0400  151.1400  2000947\n",
       "98 2023-02-14 11:30:00  152.0300  152.590  151.4400  151.5418  1951865\n",
       "99 2023-02-14 11:15:00  151.8800  152.495  151.8200  152.0400  2041841\n",
       "\n",
       "[100 rows x 6 columns]"
      ]
     },
     "execution_count": 5,
     "metadata": {},
     "output_type": "execute_result"
    }
   ],
   "source": [
    "script_data.fetch_intraday_data('AAPL')\n",
    "script_data.convert_intraday_data('AAPL')\n",
    "script_data['AAPL']"
   ]
  },
  {
   "cell_type": "code",
   "execution_count": 6,
   "id": "4d6ee2ef",
   "metadata": {},
   "outputs": [
    {
     "data": {
      "text/plain": [
       "True"
      ]
     },
     "execution_count": 6,
     "metadata": {},
     "output_type": "execute_result"
    }
   ],
   "source": [
    "'GOOGL' in script_data"
   ]
  },
  {
   "cell_type": "code",
   "execution_count": 7,
   "id": "9926984e",
   "metadata": {},
   "outputs": [
    {
     "data": {
      "text/plain": [
       "True"
      ]
     },
     "execution_count": 7,
     "metadata": {},
     "output_type": "execute_result"
    }
   ],
   "source": [
    "'AAPL' in script_data"
   ]
  },
  {
   "cell_type": "code",
   "execution_count": 8,
   "id": "27dc5e9c",
   "metadata": {},
   "outputs": [
    {
     "data": {
      "text/plain": [
       "False"
      ]
     },
     "execution_count": 8,
     "metadata": {},
     "output_type": "execute_result"
    }
   ],
   "source": [
    "'NVDA' in script_data"
   ]
  },
  {
   "cell_type": "code",
   "execution_count": 9,
   "id": "ebb47548",
   "metadata": {},
   "outputs": [],
   "source": [
    "def indicator1(df, timeperiod):\n",
    "    new_df = df.loc[:,['timestamp']]\n",
    "    close_series = df.loc[:, 'close']\n",
    "\n",
    "    # Using rolling function to calculate mean of previous 'timeperiod' number of rows in close column\n",
    "    rolling_average = close_series.rolling(window=timeperiod, min_periods=timeperiod).mean()\n",
    "\n",
    "    new_df.insert(1, 'indicator', rolling_average)\n",
    "    return new_df"
   ]
  },
  {
   "cell_type": "code",
   "execution_count": 10,
   "id": "9cfc7e4e",
   "metadata": {},
   "outputs": [
    {
     "data": {
      "text/html": [
       "<div>\n",
       "<style scoped>\n",
       "    .dataframe tbody tr th:only-of-type {\n",
       "        vertical-align: middle;\n",
       "    }\n",
       "\n",
       "    .dataframe tbody tr th {\n",
       "        vertical-align: top;\n",
       "    }\n",
       "\n",
       "    .dataframe thead th {\n",
       "        text-align: right;\n",
       "    }\n",
       "</style>\n",
       "<table border=\"1\" class=\"dataframe\">\n",
       "  <thead>\n",
       "    <tr style=\"text-align: right;\">\n",
       "      <th></th>\n",
       "      <th>timestamp</th>\n",
       "      <th>indicator</th>\n",
       "    </tr>\n",
       "  </thead>\n",
       "  <tbody>\n",
       "    <tr>\n",
       "      <th>0</th>\n",
       "      <td>2023-02-15 20:00:00</td>\n",
       "      <td>NaN</td>\n",
       "    </tr>\n",
       "    <tr>\n",
       "      <th>1</th>\n",
       "      <td>2023-02-15 19:45:00</td>\n",
       "      <td>NaN</td>\n",
       "    </tr>\n",
       "    <tr>\n",
       "      <th>2</th>\n",
       "      <td>2023-02-15 19:30:00</td>\n",
       "      <td>NaN</td>\n",
       "    </tr>\n",
       "    <tr>\n",
       "      <th>3</th>\n",
       "      <td>2023-02-15 19:15:00</td>\n",
       "      <td>NaN</td>\n",
       "    </tr>\n",
       "    <tr>\n",
       "      <th>4</th>\n",
       "      <td>2023-02-15 19:00:00</td>\n",
       "      <td>96.99200</td>\n",
       "    </tr>\n",
       "    <tr>\n",
       "      <th>...</th>\n",
       "      <td>...</td>\n",
       "      <td>...</td>\n",
       "    </tr>\n",
       "    <tr>\n",
       "      <th>95</th>\n",
       "      <td>2023-02-14 12:15:00</td>\n",
       "      <td>93.27226</td>\n",
       "    </tr>\n",
       "    <tr>\n",
       "      <th>96</th>\n",
       "      <td>2023-02-14 12:00:00</td>\n",
       "      <td>93.05054</td>\n",
       "    </tr>\n",
       "    <tr>\n",
       "      <th>97</th>\n",
       "      <td>2023-02-14 11:45:00</td>\n",
       "      <td>92.87866</td>\n",
       "    </tr>\n",
       "    <tr>\n",
       "      <th>98</th>\n",
       "      <td>2023-02-14 11:30:00</td>\n",
       "      <td>92.76234</td>\n",
       "    </tr>\n",
       "    <tr>\n",
       "      <th>99</th>\n",
       "      <td>2023-02-14 11:15:00</td>\n",
       "      <td>92.78376</td>\n",
       "    </tr>\n",
       "  </tbody>\n",
       "</table>\n",
       "<p>100 rows × 2 columns</p>\n",
       "</div>"
      ],
      "text/plain": [
       "             timestamp  indicator\n",
       "0  2023-02-15 20:00:00        NaN\n",
       "1  2023-02-15 19:45:00        NaN\n",
       "2  2023-02-15 19:30:00        NaN\n",
       "3  2023-02-15 19:15:00        NaN\n",
       "4  2023-02-15 19:00:00   96.99200\n",
       "..                 ...        ...\n",
       "95 2023-02-14 12:15:00   93.27226\n",
       "96 2023-02-14 12:00:00   93.05054\n",
       "97 2023-02-14 11:45:00   92.87866\n",
       "98 2023-02-14 11:30:00   92.76234\n",
       "99 2023-02-14 11:15:00   92.78376\n",
       "\n",
       "[100 rows x 2 columns]"
      ]
     },
     "execution_count": 10,
     "metadata": {},
     "output_type": "execute_result"
    }
   ],
   "source": [
    "indicator1(script_data['GOOGL'], 5)"
   ]
  },
  {
   "cell_type": "code",
   "execution_count": 11,
   "id": "89d44cce",
   "metadata": {},
   "outputs": [
    {
     "data": {
      "text/html": [
       "<div>\n",
       "<style scoped>\n",
       "    .dataframe tbody tr th:only-of-type {\n",
       "        vertical-align: middle;\n",
       "    }\n",
       "\n",
       "    .dataframe tbody tr th {\n",
       "        vertical-align: top;\n",
       "    }\n",
       "\n",
       "    .dataframe thead th {\n",
       "        text-align: right;\n",
       "    }\n",
       "</style>\n",
       "<table border=\"1\" class=\"dataframe\">\n",
       "  <thead>\n",
       "    <tr style=\"text-align: right;\">\n",
       "      <th></th>\n",
       "      <th>timestamp</th>\n",
       "      <th>indicator</th>\n",
       "    </tr>\n",
       "  </thead>\n",
       "  <tbody>\n",
       "    <tr>\n",
       "      <th>0</th>\n",
       "      <td>2023-02-15 20:00:00</td>\n",
       "      <td>NaN</td>\n",
       "    </tr>\n",
       "    <tr>\n",
       "      <th>1</th>\n",
       "      <td>2023-02-15 19:45:00</td>\n",
       "      <td>NaN</td>\n",
       "    </tr>\n",
       "    <tr>\n",
       "      <th>2</th>\n",
       "      <td>2023-02-15 19:30:00</td>\n",
       "      <td>NaN</td>\n",
       "    </tr>\n",
       "    <tr>\n",
       "      <th>3</th>\n",
       "      <td>2023-02-15 19:15:00</td>\n",
       "      <td>NaN</td>\n",
       "    </tr>\n",
       "    <tr>\n",
       "      <th>4</th>\n",
       "      <td>2023-02-15 19:00:00</td>\n",
       "      <td>155.43200</td>\n",
       "    </tr>\n",
       "    <tr>\n",
       "      <th>...</th>\n",
       "      <td>...</td>\n",
       "      <td>...</td>\n",
       "    </tr>\n",
       "    <tr>\n",
       "      <th>95</th>\n",
       "      <td>2023-02-14 12:15:00</td>\n",
       "      <td>152.13704</td>\n",
       "    </tr>\n",
       "    <tr>\n",
       "      <th>96</th>\n",
       "      <td>2023-02-14 12:00:00</td>\n",
       "      <td>151.92404</td>\n",
       "    </tr>\n",
       "    <tr>\n",
       "      <th>97</th>\n",
       "      <td>2023-02-14 11:45:00</td>\n",
       "      <td>151.73104</td>\n",
       "    </tr>\n",
       "    <tr>\n",
       "      <th>98</th>\n",
       "      <td>2023-02-14 11:30:00</td>\n",
       "      <td>151.64834</td>\n",
       "    </tr>\n",
       "    <tr>\n",
       "      <th>99</th>\n",
       "      <td>2023-02-14 11:15:00</td>\n",
       "      <td>151.67836</td>\n",
       "    </tr>\n",
       "  </tbody>\n",
       "</table>\n",
       "<p>100 rows × 2 columns</p>\n",
       "</div>"
      ],
      "text/plain": [
       "             timestamp  indicator\n",
       "0  2023-02-15 20:00:00        NaN\n",
       "1  2023-02-15 19:45:00        NaN\n",
       "2  2023-02-15 19:30:00        NaN\n",
       "3  2023-02-15 19:15:00        NaN\n",
       "4  2023-02-15 19:00:00  155.43200\n",
       "..                 ...        ...\n",
       "95 2023-02-14 12:15:00  152.13704\n",
       "96 2023-02-14 12:00:00  151.92404\n",
       "97 2023-02-14 11:45:00  151.73104\n",
       "98 2023-02-14 11:30:00  151.64834\n",
       "99 2023-02-14 11:15:00  151.67836\n",
       "\n",
       "[100 rows x 2 columns]"
      ]
     },
     "execution_count": 11,
     "metadata": {},
     "output_type": "execute_result"
    }
   ],
   "source": [
    "indicator1(script_data['AAPL'], 5)"
   ]
  },
  {
   "cell_type": "code",
   "execution_count": 12,
   "id": "67ea7d7d",
   "metadata": {},
   "outputs": [],
   "source": [
    "class Strategy:\n",
    "\n",
    "    def __init__(self, script, intraday_data={}):\n",
    "        self.script = script\n",
    "        self.intraday_data = intraday_data\n",
    "    \n",
    "    def get_script_data(self):\n",
    "        script_data.fetch_intraday_data(self.script)\n",
    "        script_data.convert_intraday_data(self.script)\n",
    "        self.intraday_data = script_data[self.script]\n",
    "\n",
    "    def get_signals(self):\n",
    "        indicator_data = indicator1(self.intraday_data, 5)\n",
    "        indicator_data['close_data'] = self.intraday_data.loc[:, 'close']\n",
    "    \n",
    "        # BUY when following indicator_data is greater than following close_data and previous indicator_data is less than previous close_data\n",
    "        buy_condition = (indicator_data['indicator'].shift() > indicator_data['close_data'].shift()) & (indicator_data['indicator'].shift(-1) < indicator_data['close_data'].shift(-1))\n",
    "\n",
    "        # SELL when previous indicator_data is greater than previous close_data and following indicator_data is less than following close_data\n",
    "        sell_condition = (indicator_data['indicator'].shift(-1) > indicator_data['close_data'].shift(-1)) & (indicator_data['indicator'].shift() < indicator_data['close_data'].shift())\n",
    "\n",
    "        # NO SIGNAL otherwise\n",
    "        indicator_data['signal'] = np.select([buy_condition, sell_condition, True], ['BUY', 'SELL', 'NO SIGNAL'])\n",
    "\n",
    "        # New dataframe 'signals' with columns 'timestamp' and 'signal' tracking only BUY/SELL rows \n",
    "        signals = indicator_data.loc[:, ['timestamp', 'signal']]\n",
    "        signals.drop(signals[signals.signal=='NO SIGNAL'].index, inplace = True)\n",
    "        signals.reset_index(drop=True, inplace = True)\n",
    "    \n",
    "        return signals"
   ]
  },
  {
   "cell_type": "code",
   "execution_count": 13,
   "id": "c0192486",
   "metadata": {},
   "outputs": [
    {
     "data": {
      "text/html": [
       "<div>\n",
       "<style scoped>\n",
       "    .dataframe tbody tr th:only-of-type {\n",
       "        vertical-align: middle;\n",
       "    }\n",
       "\n",
       "    .dataframe tbody tr th {\n",
       "        vertical-align: top;\n",
       "    }\n",
       "\n",
       "    .dataframe thead th {\n",
       "        text-align: right;\n",
       "    }\n",
       "</style>\n",
       "<table border=\"1\" class=\"dataframe\">\n",
       "  <thead>\n",
       "    <tr style=\"text-align: right;\">\n",
       "      <th></th>\n",
       "      <th>timestamp</th>\n",
       "      <th>signal</th>\n",
       "    </tr>\n",
       "  </thead>\n",
       "  <tbody>\n",
       "    <tr>\n",
       "      <th>0</th>\n",
       "      <td>2023-02-15 18:00:00</td>\n",
       "      <td>BUY</td>\n",
       "    </tr>\n",
       "    <tr>\n",
       "      <th>1</th>\n",
       "      <td>2023-02-15 17:45:00</td>\n",
       "      <td>BUY</td>\n",
       "    </tr>\n",
       "    <tr>\n",
       "      <th>2</th>\n",
       "      <td>2023-02-15 17:30:00</td>\n",
       "      <td>SELL</td>\n",
       "    </tr>\n",
       "    <tr>\n",
       "      <th>3</th>\n",
       "      <td>2023-02-15 17:15:00</td>\n",
       "      <td>SELL</td>\n",
       "    </tr>\n",
       "    <tr>\n",
       "      <th>4</th>\n",
       "      <td>2023-02-15 17:00:00</td>\n",
       "      <td>BUY</td>\n",
       "    </tr>\n",
       "    <tr>\n",
       "      <th>5</th>\n",
       "      <td>2023-02-15 16:45:00</td>\n",
       "      <td>BUY</td>\n",
       "    </tr>\n",
       "    <tr>\n",
       "      <th>6</th>\n",
       "      <td>2023-02-15 16:00:00</td>\n",
       "      <td>SELL</td>\n",
       "    </tr>\n",
       "    <tr>\n",
       "      <th>7</th>\n",
       "      <td>2023-02-15 15:45:00</td>\n",
       "      <td>SELL</td>\n",
       "    </tr>\n",
       "    <tr>\n",
       "      <th>8</th>\n",
       "      <td>2023-02-15 15:00:00</td>\n",
       "      <td>BUY</td>\n",
       "    </tr>\n",
       "    <tr>\n",
       "      <th>9</th>\n",
       "      <td>2023-02-15 14:45:00</td>\n",
       "      <td>BUY</td>\n",
       "    </tr>\n",
       "    <tr>\n",
       "      <th>10</th>\n",
       "      <td>2023-02-15 14:15:00</td>\n",
       "      <td>SELL</td>\n",
       "    </tr>\n",
       "    <tr>\n",
       "      <th>11</th>\n",
       "      <td>2023-02-15 14:00:00</td>\n",
       "      <td>SELL</td>\n",
       "    </tr>\n",
       "    <tr>\n",
       "      <th>12</th>\n",
       "      <td>2023-02-15 12:15:00</td>\n",
       "      <td>BUY</td>\n",
       "    </tr>\n",
       "    <tr>\n",
       "      <th>13</th>\n",
       "      <td>2023-02-15 12:00:00</td>\n",
       "      <td>BUY</td>\n",
       "    </tr>\n",
       "    <tr>\n",
       "      <th>14</th>\n",
       "      <td>2023-02-15 11:45:00</td>\n",
       "      <td>SELL</td>\n",
       "    </tr>\n",
       "    <tr>\n",
       "      <th>15</th>\n",
       "      <td>2023-02-15 11:30:00</td>\n",
       "      <td>SELL</td>\n",
       "    </tr>\n",
       "    <tr>\n",
       "      <th>16</th>\n",
       "      <td>2023-02-15 10:45:00</td>\n",
       "      <td>BUY</td>\n",
       "    </tr>\n",
       "    <tr>\n",
       "      <th>17</th>\n",
       "      <td>2023-02-15 10:15:00</td>\n",
       "      <td>SELL</td>\n",
       "    </tr>\n",
       "    <tr>\n",
       "      <th>18</th>\n",
       "      <td>2023-02-15 10:00:00</td>\n",
       "      <td>BUY</td>\n",
       "    </tr>\n",
       "    <tr>\n",
       "      <th>19</th>\n",
       "      <td>2023-02-15 09:45:00</td>\n",
       "      <td>BUY</td>\n",
       "    </tr>\n",
       "    <tr>\n",
       "      <th>20</th>\n",
       "      <td>2023-02-15 08:30:00</td>\n",
       "      <td>SELL</td>\n",
       "    </tr>\n",
       "    <tr>\n",
       "      <th>21</th>\n",
       "      <td>2023-02-15 08:00:00</td>\n",
       "      <td>BUY</td>\n",
       "    </tr>\n",
       "    <tr>\n",
       "      <th>22</th>\n",
       "      <td>2023-02-15 07:15:00</td>\n",
       "      <td>SELL</td>\n",
       "    </tr>\n",
       "    <tr>\n",
       "      <th>23</th>\n",
       "      <td>2023-02-15 07:00:00</td>\n",
       "      <td>SELL</td>\n",
       "    </tr>\n",
       "    <tr>\n",
       "      <th>24</th>\n",
       "      <td>2023-02-15 06:15:00</td>\n",
       "      <td>BUY</td>\n",
       "    </tr>\n",
       "    <tr>\n",
       "      <th>25</th>\n",
       "      <td>2023-02-15 05:45:00</td>\n",
       "      <td>BUY</td>\n",
       "    </tr>\n",
       "    <tr>\n",
       "      <th>26</th>\n",
       "      <td>2023-02-15 04:45:00</td>\n",
       "      <td>SELL</td>\n",
       "    </tr>\n",
       "    <tr>\n",
       "      <th>27</th>\n",
       "      <td>2023-02-15 04:30:00</td>\n",
       "      <td>SELL</td>\n",
       "    </tr>\n",
       "    <tr>\n",
       "      <th>28</th>\n",
       "      <td>2023-02-15 04:15:00</td>\n",
       "      <td>BUY</td>\n",
       "    </tr>\n",
       "    <tr>\n",
       "      <th>29</th>\n",
       "      <td>2023-02-14 20:00:00</td>\n",
       "      <td>BUY</td>\n",
       "    </tr>\n",
       "    <tr>\n",
       "      <th>30</th>\n",
       "      <td>2023-02-14 19:15:00</td>\n",
       "      <td>SELL</td>\n",
       "    </tr>\n",
       "    <tr>\n",
       "      <th>31</th>\n",
       "      <td>2023-02-14 18:45:00</td>\n",
       "      <td>BUY</td>\n",
       "    </tr>\n",
       "    <tr>\n",
       "      <th>32</th>\n",
       "      <td>2023-02-14 18:00:00</td>\n",
       "      <td>SELL</td>\n",
       "    </tr>\n",
       "    <tr>\n",
       "      <th>33</th>\n",
       "      <td>2023-02-14 17:45:00</td>\n",
       "      <td>SELL</td>\n",
       "    </tr>\n",
       "    <tr>\n",
       "      <th>34</th>\n",
       "      <td>2023-02-14 16:45:00</td>\n",
       "      <td>BUY</td>\n",
       "    </tr>\n",
       "    <tr>\n",
       "      <th>35</th>\n",
       "      <td>2023-02-14 16:30:00</td>\n",
       "      <td>BUY</td>\n",
       "    </tr>\n",
       "    <tr>\n",
       "      <th>36</th>\n",
       "      <td>2023-02-14 15:45:00</td>\n",
       "      <td>SELL</td>\n",
       "    </tr>\n",
       "    <tr>\n",
       "      <th>37</th>\n",
       "      <td>2023-02-14 15:30:00</td>\n",
       "      <td>SELL</td>\n",
       "    </tr>\n",
       "    <tr>\n",
       "      <th>38</th>\n",
       "      <td>2023-02-14 15:00:00</td>\n",
       "      <td>BUY</td>\n",
       "    </tr>\n",
       "    <tr>\n",
       "      <th>39</th>\n",
       "      <td>2023-02-14 14:30:00</td>\n",
       "      <td>SELL</td>\n",
       "    </tr>\n",
       "    <tr>\n",
       "      <th>40</th>\n",
       "      <td>2023-02-14 13:45:00</td>\n",
       "      <td>BUY</td>\n",
       "    </tr>\n",
       "    <tr>\n",
       "      <th>41</th>\n",
       "      <td>2023-02-14 13:30:00</td>\n",
       "      <td>BUY</td>\n",
       "    </tr>\n",
       "    <tr>\n",
       "      <th>42</th>\n",
       "      <td>2023-02-14 13:15:00</td>\n",
       "      <td>SELL</td>\n",
       "    </tr>\n",
       "    <tr>\n",
       "      <th>43</th>\n",
       "      <td>2023-02-14 13:00:00</td>\n",
       "      <td>SELL</td>\n",
       "    </tr>\n",
       "    <tr>\n",
       "      <th>44</th>\n",
       "      <td>2023-02-14 11:30:00</td>\n",
       "      <td>BUY</td>\n",
       "    </tr>\n",
       "  </tbody>\n",
       "</table>\n",
       "</div>"
      ],
      "text/plain": [
       "             timestamp signal\n",
       "0  2023-02-15 18:00:00    BUY\n",
       "1  2023-02-15 17:45:00    BUY\n",
       "2  2023-02-15 17:30:00   SELL\n",
       "3  2023-02-15 17:15:00   SELL\n",
       "4  2023-02-15 17:00:00    BUY\n",
       "5  2023-02-15 16:45:00    BUY\n",
       "6  2023-02-15 16:00:00   SELL\n",
       "7  2023-02-15 15:45:00   SELL\n",
       "8  2023-02-15 15:00:00    BUY\n",
       "9  2023-02-15 14:45:00    BUY\n",
       "10 2023-02-15 14:15:00   SELL\n",
       "11 2023-02-15 14:00:00   SELL\n",
       "12 2023-02-15 12:15:00    BUY\n",
       "13 2023-02-15 12:00:00    BUY\n",
       "14 2023-02-15 11:45:00   SELL\n",
       "15 2023-02-15 11:30:00   SELL\n",
       "16 2023-02-15 10:45:00    BUY\n",
       "17 2023-02-15 10:15:00   SELL\n",
       "18 2023-02-15 10:00:00    BUY\n",
       "19 2023-02-15 09:45:00    BUY\n",
       "20 2023-02-15 08:30:00   SELL\n",
       "21 2023-02-15 08:00:00    BUY\n",
       "22 2023-02-15 07:15:00   SELL\n",
       "23 2023-02-15 07:00:00   SELL\n",
       "24 2023-02-15 06:15:00    BUY\n",
       "25 2023-02-15 05:45:00    BUY\n",
       "26 2023-02-15 04:45:00   SELL\n",
       "27 2023-02-15 04:30:00   SELL\n",
       "28 2023-02-15 04:15:00    BUY\n",
       "29 2023-02-14 20:00:00    BUY\n",
       "30 2023-02-14 19:15:00   SELL\n",
       "31 2023-02-14 18:45:00    BUY\n",
       "32 2023-02-14 18:00:00   SELL\n",
       "33 2023-02-14 17:45:00   SELL\n",
       "34 2023-02-14 16:45:00    BUY\n",
       "35 2023-02-14 16:30:00    BUY\n",
       "36 2023-02-14 15:45:00   SELL\n",
       "37 2023-02-14 15:30:00   SELL\n",
       "38 2023-02-14 15:00:00    BUY\n",
       "39 2023-02-14 14:30:00   SELL\n",
       "40 2023-02-14 13:45:00    BUY\n",
       "41 2023-02-14 13:30:00    BUY\n",
       "42 2023-02-14 13:15:00   SELL\n",
       "43 2023-02-14 13:00:00   SELL\n",
       "44 2023-02-14 11:30:00    BUY"
      ]
     },
     "execution_count": 13,
     "metadata": {},
     "output_type": "execute_result"
    }
   ],
   "source": [
    "strategy = Strategy('NVDA')\n",
    "strategy.get_script_data()\n",
    "strategy.get_signals()"
   ]
  },
  {
   "cell_type": "code",
   "execution_count": 14,
   "metadata": {},
   "outputs": [],
   "source": [
    "from pyalgotrading.utils.func import plot_candlestick_chart\n",
    "from pyalgotrading.constants import PlotType"
   ]
  },
  {
   "cell_type": "code",
   "execution_count": 15,
   "id": "6f511946",
   "metadata": {},
   "outputs": [],
   "source": [
    "def plot_candlestick_graph(script, timeperiod):\n",
    "    df = script_data[script].sort_values(by='timestamp')\n",
    "    indicator_data = indicator1(script_data[script], 5).sort_values(by='timestamp')\n",
    "    plot_candlestick_chart(df, PlotType.HEIKINASHI, hide_missing_dates=True, show=True, indicators=[{'name': 'SMA', 'data': indicator_data['indicator']}])"
   ]
  },
  {
   "cell_type": "code",
   "execution_count": 16,
   "id": "d4da3cdb",
   "metadata": {},
   "outputs": [
    {
     "data": {
      "application/vnd.plotly.v1+json": {
       "config": {
        "plotlyServerURL": "https://plot.ly"
       },
       "data": [
        {
         "close": [
          93.14,
          92.73,
          92.3531,
          92.6607,
          93.035,
          93.0329,
          93.3116,
          93.2125,
          93.7693,
          93.79,
          93.6,
          93.665,
          93.64,
          93.76,
          93.895,
          94.1599,
          94.1499,
          94.53,
          94.76,
          94.63,
          94.48,
          94.36,
          94.39,
          94.3799,
          94.35,
          94.35,
          94.35,
          94.4,
          94.3,
          94.29,
          94.3,
          94.36,
          94.26,
          94.3,
          94.2,
          94.12,
          94.03,
          94.19,
          94.2,
          94.05,
          94,
          94,
          94.23,
          94.13,
          94.01,
          94.1,
          94.1,
          94,
          94.55,
          94.5,
          94.26,
          94.35,
          94.24,
          94.24,
          94.29,
          94.3242,
          94.31,
          94.5,
          94.69,
          94.38,
          94.49,
          94.88,
          94.9887,
          95.19,
          95.4701,
          96.2277,
          96.79,
          96.2236,
          96.315,
          96.08,
          96.3177,
          96.1679,
          96.4225,
          96.44,
          96.605,
          96.62,
          96.94,
          96.8752,
          96.91,
          96.6819,
          96.61,
          96.58,
          96.47,
          96.97,
          96.93,
          96.94,
          96.96,
          96.95,
          96.9303,
          96.95,
          96.93,
          96.9,
          96.95,
          96.97,
          96.99,
          96.94,
          97,
          96.94,
          96.98,
          97.1
         ],
         "high": [
          93.4163,
          93.25,
          92.74,
          92.73,
          93.0399,
          93.23,
          93.5,
          93.325,
          94,
          94.07,
          93.93,
          93.87,
          93.82,
          93.91,
          94.01,
          94.22,
          94.2213,
          94.73,
          94.79,
          94.845,
          94.69,
          94.5,
          94.4596,
          94.43,
          94.38,
          94.36,
          94.4,
          94.4,
          94.41,
          94.3787,
          94.3,
          94.49,
          94.5,
          94.34,
          94.32,
          94.24,
          94.48,
          94.21,
          94.24,
          94.08,
          94.05,
          94.07,
          94.24,
          94.25,
          94.1,
          94.1,
          94.14,
          94.1,
          94.55,
          94.59,
          94.5,
          94.35,
          94.55,
          94.29,
          94.37,
          94.55,
          94.39,
          94.64,
          95.19,
          95.05,
          94.72,
          95.13,
          95.27,
          95.205,
          95.555,
          96.31,
          96.81,
          96.8468,
          96.51,
          96.3837,
          96.43,
          96.435,
          96.435,
          96.53,
          96.675,
          96.7,
          96.945,
          97.12,
          96.97,
          97.05,
          96.82,
          96.805,
          96.775,
          96.97,
          97.08,
          97,
          96.97,
          96.98,
          96.96,
          96.95,
          96.95,
          96.94,
          96.97,
          97.01,
          97.01,
          97,
          97.01,
          97.01,
          97,
          97.12
         ],
         "low": [
          92.91,
          92.695,
          92.26,
          92.27,
          92.53,
          92.85,
          93.01,
          92.95,
          93.2,
          93.71,
          93.58,
          93.5501,
          93.26,
          93.63,
          93.74,
          93.81,
          93.79,
          94.07,
          94.42,
          94.605,
          94.32,
          94.36,
          94.3544,
          94.36,
          94.35,
          94.3257,
          94.35,
          94.33,
          94.3,
          94.27,
          94.26,
          94.3,
          94.26,
          94.25,
          94.2,
          93.5,
          94.03,
          94.05,
          94.15,
          94.04,
          93.95,
          93.99,
          94,
          94.09,
          94.01,
          94.03,
          94.07,
          94,
          94.19,
          94.48,
          94.2,
          94.27,
          93.84,
          94.1954,
          93.95,
          94.26,
          94.2001,
          93.98,
          94.15,
          94.17,
          94.24,
          94.49,
          94.76,
          94.93,
          95.17,
          95.35,
          95.945,
          96.21,
          95.96,
          95.92,
          95.96,
          96.11,
          96.06,
          96.29,
          96.2301,
          96.37,
          96.57,
          96.79,
          96.81,
          96.59,
          96.53,
          96.51,
          96.43,
          96.38,
          96.85,
          96.92,
          96.8911,
          96.95,
          96.9,
          96.91,
          96.91,
          96.86,
          96.89,
          96.95,
          96.96,
          96.93,
          96.8,
          96.91,
          96.9,
          97
         ],
         "name": "Historical Data",
         "open": [
          92.9399,
          93.14,
          92.74,
          92.33,
          92.66,
          93.04,
          93.04,
          93.32,
          93.22,
          93.7623,
          93.8,
          93.61,
          93.665,
          93.63,
          93.76,
          93.895,
          94.16,
          94.145,
          94.535,
          94.77,
          94.69,
          94.48,
          94.3544,
          94.41,
          94.38,
          94.34,
          94.36,
          94.38,
          94.36,
          94.33,
          94.29,
          94.3,
          94.45,
          94.34,
          94.27,
          94.24,
          94.48,
          94.07,
          94.15,
          94.08,
          94.05,
          94.03,
          94,
          94.22,
          94.09,
          94.04,
          94.11,
          94.1,
          94.19,
          94.55,
          94.5,
          94.27,
          94.4,
          94.24,
          94.18,
          94.3,
          94.387,
          94.2136,
          94.49,
          94.66,
          94.39,
          94.4999,
          94.9,
          94.99,
          95.19,
          95.48,
          96.225,
          96.8,
          96.23,
          96.3371,
          96.08,
          96.32,
          96.18,
          96.43,
          96.44,
          96.61,
          96.62,
          96.945,
          96.8736,
          96.9104,
          96.69,
          96.62,
          96.59,
          96.465,
          96.94,
          96.94,
          96.94,
          96.96,
          96.9406,
          96.95,
          96.9499,
          96.94,
          96.9,
          96.97,
          96.97,
          96.98,
          96.93,
          97,
          96.9399,
          97
         ],
         "type": "candlestick",
         "x": [
          "14/02 11:15",
          "14/02 11:30",
          "14/02 11:45",
          "14/02 12:00",
          "14/02 12:15",
          "14/02 12:30",
          "14/02 12:45",
          "14/02 13:00",
          "14/02 13:15",
          "14/02 13:30",
          "14/02 13:45",
          "14/02 14:00",
          "14/02 14:15",
          "14/02 14:30",
          "14/02 14:45",
          "14/02 15:00",
          "14/02 15:15",
          "14/02 15:30",
          "14/02 15:45",
          "14/02 16:00",
          "14/02 16:15",
          "14/02 16:30",
          "14/02 16:45",
          "14/02 17:00",
          "14/02 17:15",
          "14/02 17:30",
          "14/02 17:45",
          "14/02 18:00",
          "14/02 18:15",
          "14/02 18:30",
          "14/02 18:45",
          "14/02 19:00",
          "14/02 19:15",
          "14/02 19:30",
          "14/02 19:45",
          "14/02 20:00",
          "15/02 04:15",
          "15/02 04:30",
          "15/02 04:45",
          "15/02 05:00",
          "15/02 05:15",
          "15/02 05:30",
          "15/02 05:45",
          "15/02 06:00",
          "15/02 06:15",
          "15/02 06:30",
          "15/02 06:45",
          "15/02 07:00",
          "15/02 07:15",
          "15/02 07:30",
          "15/02 07:45",
          "15/02 08:00",
          "15/02 08:15",
          "15/02 08:30",
          "15/02 08:45",
          "15/02 09:00",
          "15/02 09:15",
          "15/02 09:30",
          "15/02 09:45",
          "15/02 10:00",
          "15/02 10:15",
          "15/02 10:30",
          "15/02 10:45",
          "15/02 11:00",
          "15/02 11:15",
          "15/02 11:30",
          "15/02 11:45",
          "15/02 12:00",
          "15/02 12:15",
          "15/02 12:30",
          "15/02 12:45",
          "15/02 13:00",
          "15/02 13:15",
          "15/02 13:30",
          "15/02 13:45",
          "15/02 14:00",
          "15/02 14:15",
          "15/02 14:30",
          "15/02 14:45",
          "15/02 15:00",
          "15/02 15:15",
          "15/02 15:30",
          "15/02 15:45",
          "15/02 16:00",
          "15/02 16:15",
          "15/02 16:30",
          "15/02 16:45",
          "15/02 17:00",
          "15/02 17:15",
          "15/02 17:30",
          "15/02 17:45",
          "15/02 18:00",
          "15/02 18:15",
          "15/02 18:30",
          "15/02 18:45",
          "15/02 19:00",
          "15/02 19:15",
          "15/02 19:30",
          "15/02 19:45",
          "15/02 20:00"
         ],
         "xaxis": "x",
         "yaxis": "y"
        },
        {
         "name": "SMA",
         "type": "scatter",
         "x": [
          "14/02 11:15",
          "14/02 11:30",
          "14/02 11:45",
          "14/02 12:00",
          "14/02 12:15",
          "14/02 12:30",
          "14/02 12:45",
          "14/02 13:00",
          "14/02 13:15",
          "14/02 13:30",
          "14/02 13:45",
          "14/02 14:00",
          "14/02 14:15",
          "14/02 14:30",
          "14/02 14:45",
          "14/02 15:00",
          "14/02 15:15",
          "14/02 15:30",
          "14/02 15:45",
          "14/02 16:00",
          "14/02 16:15",
          "14/02 16:30",
          "14/02 16:45",
          "14/02 17:00",
          "14/02 17:15",
          "14/02 17:30",
          "14/02 17:45",
          "14/02 18:00",
          "14/02 18:15",
          "14/02 18:30",
          "14/02 18:45",
          "14/02 19:00",
          "14/02 19:15",
          "14/02 19:30",
          "14/02 19:45",
          "14/02 20:00",
          "15/02 04:15",
          "15/02 04:30",
          "15/02 04:45",
          "15/02 05:00",
          "15/02 05:15",
          "15/02 05:30",
          "15/02 05:45",
          "15/02 06:00",
          "15/02 06:15",
          "15/02 06:30",
          "15/02 06:45",
          "15/02 07:00",
          "15/02 07:15",
          "15/02 07:30",
          "15/02 07:45",
          "15/02 08:00",
          "15/02 08:15",
          "15/02 08:30",
          "15/02 08:45",
          "15/02 09:00",
          "15/02 09:15",
          "15/02 09:30",
          "15/02 09:45",
          "15/02 10:00",
          "15/02 10:15",
          "15/02 10:30",
          "15/02 10:45",
          "15/02 11:00",
          "15/02 11:15",
          "15/02 11:30",
          "15/02 11:45",
          "15/02 12:00",
          "15/02 12:15",
          "15/02 12:30",
          "15/02 12:45",
          "15/02 13:00",
          "15/02 13:15",
          "15/02 13:30",
          "15/02 13:45",
          "15/02 14:00",
          "15/02 14:15",
          "15/02 14:30",
          "15/02 14:45",
          "15/02 15:00",
          "15/02 15:15",
          "15/02 15:30",
          "15/02 15:45",
          "15/02 16:00",
          "15/02 16:15",
          "15/02 16:30",
          "15/02 16:45",
          "15/02 17:00",
          "15/02 17:15",
          "15/02 17:30",
          "15/02 17:45",
          "15/02 18:00",
          "15/02 18:15",
          "15/02 18:30",
          "15/02 18:45",
          "15/02 19:00",
          "15/02 19:15",
          "15/02 19:30",
          "15/02 19:45",
          "15/02 20:00"
         ],
         "xaxis": "x",
         "y": [
          92.78376,
          92.76234,
          92.87866,
          93.05054,
          93.27226,
          93.42326,
          93.53668,
          93.60736,
          93.69286,
          93.691,
          93.712,
          93.82398,
          93.92096000000001,
          94.09896,
          94.29896,
          94.44595999999999,
          94.50998,
          94.55199999999999,
          94.524,
          94.44798,
          94.39198000000002,
          94.36598000000001,
          94.36398,
          94.36598000000001,
          94.35,
          94.33800000000001,
          94.328,
          94.33,
          94.30199999999999,
          94.30199999999999,
          94.28399999999999,
          94.248,
          94.182,
          94.168,
          94.148,
          94.11800000000001,
          94.09400000000001,
          94.088,
          94.09599999999999,
          94.08200000000001,
          94.074,
          94.094,
          94.114,
          94.06800000000001,
          94.152,
          94.24999999999999,
          94.28200000000001,
          94.332,
          94.38,
          94.31800000000001,
          94.276,
          94.28884,
          94.28084,
          94.33284,
          94.42284,
          94.44084000000001,
          94.474,
          94.588,
          94.68574,
          94.78574,
          95.00376,
          95.3513,
          95.7333,
          95.98028000000001,
          96.20528,
          96.32726,
          96.34526000000001,
          96.22084,
          96.26061999999999,
          96.28562,
          96.39062,
          96.45108,
          96.6055,
          96.69604000000001,
          96.79004,
          96.80542,
          96.80341999999999,
          96.73142,
          96.65038,
          96.66238000000001,
          96.712,
          96.77799999999999,
          96.854,
          96.95,
          96.94206,
          96.94606,
          96.94406000000001,
          96.93206,
          96.93206,
          96.94000000000001,
          96.94800000000001,
          96.95,
          96.97,
          96.968,
          96.97,
          96.99199999999999,
          null,
          null,
          null,
          null
         ],
         "yaxis": "y"
        }
       ],
       "layout": {
        "height": 500,
        "template": {
         "data": {
          "bar": [
           {
            "error_x": {
             "color": "#2a3f5f"
            },
            "error_y": {
             "color": "#2a3f5f"
            },
            "marker": {
             "line": {
              "color": "#E5ECF6",
              "width": 0.5
             }
            },
            "type": "bar"
           }
          ],
          "barpolar": [
           {
            "marker": {
             "line": {
              "color": "#E5ECF6",
              "width": 0.5
             }
            },
            "type": "barpolar"
           }
          ],
          "carpet": [
           {
            "aaxis": {
             "endlinecolor": "#2a3f5f",
             "gridcolor": "white",
             "linecolor": "white",
             "minorgridcolor": "white",
             "startlinecolor": "#2a3f5f"
            },
            "baxis": {
             "endlinecolor": "#2a3f5f",
             "gridcolor": "white",
             "linecolor": "white",
             "minorgridcolor": "white",
             "startlinecolor": "#2a3f5f"
            },
            "type": "carpet"
           }
          ],
          "choropleth": [
           {
            "colorbar": {
             "outlinewidth": 0,
             "ticks": ""
            },
            "type": "choropleth"
           }
          ],
          "contour": [
           {
            "colorbar": {
             "outlinewidth": 0,
             "ticks": ""
            },
            "colorscale": [
             [
              0,
              "#0d0887"
             ],
             [
              0.1111111111111111,
              "#46039f"
             ],
             [
              0.2222222222222222,
              "#7201a8"
             ],
             [
              0.3333333333333333,
              "#9c179e"
             ],
             [
              0.4444444444444444,
              "#bd3786"
             ],
             [
              0.5555555555555556,
              "#d8576b"
             ],
             [
              0.6666666666666666,
              "#ed7953"
             ],
             [
              0.7777777777777778,
              "#fb9f3a"
             ],
             [
              0.8888888888888888,
              "#fdca26"
             ],
             [
              1,
              "#f0f921"
             ]
            ],
            "type": "contour"
           }
          ],
          "contourcarpet": [
           {
            "colorbar": {
             "outlinewidth": 0,
             "ticks": ""
            },
            "type": "contourcarpet"
           }
          ],
          "heatmap": [
           {
            "colorbar": {
             "outlinewidth": 0,
             "ticks": ""
            },
            "colorscale": [
             [
              0,
              "#0d0887"
             ],
             [
              0.1111111111111111,
              "#46039f"
             ],
             [
              0.2222222222222222,
              "#7201a8"
             ],
             [
              0.3333333333333333,
              "#9c179e"
             ],
             [
              0.4444444444444444,
              "#bd3786"
             ],
             [
              0.5555555555555556,
              "#d8576b"
             ],
             [
              0.6666666666666666,
              "#ed7953"
             ],
             [
              0.7777777777777778,
              "#fb9f3a"
             ],
             [
              0.8888888888888888,
              "#fdca26"
             ],
             [
              1,
              "#f0f921"
             ]
            ],
            "type": "heatmap"
           }
          ],
          "heatmapgl": [
           {
            "colorbar": {
             "outlinewidth": 0,
             "ticks": ""
            },
            "colorscale": [
             [
              0,
              "#0d0887"
             ],
             [
              0.1111111111111111,
              "#46039f"
             ],
             [
              0.2222222222222222,
              "#7201a8"
             ],
             [
              0.3333333333333333,
              "#9c179e"
             ],
             [
              0.4444444444444444,
              "#bd3786"
             ],
             [
              0.5555555555555556,
              "#d8576b"
             ],
             [
              0.6666666666666666,
              "#ed7953"
             ],
             [
              0.7777777777777778,
              "#fb9f3a"
             ],
             [
              0.8888888888888888,
              "#fdca26"
             ],
             [
              1,
              "#f0f921"
             ]
            ],
            "type": "heatmapgl"
           }
          ],
          "histogram": [
           {
            "marker": {
             "colorbar": {
              "outlinewidth": 0,
              "ticks": ""
             }
            },
            "type": "histogram"
           }
          ],
          "histogram2d": [
           {
            "colorbar": {
             "outlinewidth": 0,
             "ticks": ""
            },
            "colorscale": [
             [
              0,
              "#0d0887"
             ],
             [
              0.1111111111111111,
              "#46039f"
             ],
             [
              0.2222222222222222,
              "#7201a8"
             ],
             [
              0.3333333333333333,
              "#9c179e"
             ],
             [
              0.4444444444444444,
              "#bd3786"
             ],
             [
              0.5555555555555556,
              "#d8576b"
             ],
             [
              0.6666666666666666,
              "#ed7953"
             ],
             [
              0.7777777777777778,
              "#fb9f3a"
             ],
             [
              0.8888888888888888,
              "#fdca26"
             ],
             [
              1,
              "#f0f921"
             ]
            ],
            "type": "histogram2d"
           }
          ],
          "histogram2dcontour": [
           {
            "colorbar": {
             "outlinewidth": 0,
             "ticks": ""
            },
            "colorscale": [
             [
              0,
              "#0d0887"
             ],
             [
              0.1111111111111111,
              "#46039f"
             ],
             [
              0.2222222222222222,
              "#7201a8"
             ],
             [
              0.3333333333333333,
              "#9c179e"
             ],
             [
              0.4444444444444444,
              "#bd3786"
             ],
             [
              0.5555555555555556,
              "#d8576b"
             ],
             [
              0.6666666666666666,
              "#ed7953"
             ],
             [
              0.7777777777777778,
              "#fb9f3a"
             ],
             [
              0.8888888888888888,
              "#fdca26"
             ],
             [
              1,
              "#f0f921"
             ]
            ],
            "type": "histogram2dcontour"
           }
          ],
          "mesh3d": [
           {
            "colorbar": {
             "outlinewidth": 0,
             "ticks": ""
            },
            "type": "mesh3d"
           }
          ],
          "parcoords": [
           {
            "line": {
             "colorbar": {
              "outlinewidth": 0,
              "ticks": ""
             }
            },
            "type": "parcoords"
           }
          ],
          "pie": [
           {
            "automargin": true,
            "type": "pie"
           }
          ],
          "scatter": [
           {
            "marker": {
             "colorbar": {
              "outlinewidth": 0,
              "ticks": ""
             }
            },
            "type": "scatter"
           }
          ],
          "scatter3d": [
           {
            "line": {
             "colorbar": {
              "outlinewidth": 0,
              "ticks": ""
             }
            },
            "marker": {
             "colorbar": {
              "outlinewidth": 0,
              "ticks": ""
             }
            },
            "type": "scatter3d"
           }
          ],
          "scattercarpet": [
           {
            "marker": {
             "colorbar": {
              "outlinewidth": 0,
              "ticks": ""
             }
            },
            "type": "scattercarpet"
           }
          ],
          "scattergeo": [
           {
            "marker": {
             "colorbar": {
              "outlinewidth": 0,
              "ticks": ""
             }
            },
            "type": "scattergeo"
           }
          ],
          "scattergl": [
           {
            "marker": {
             "colorbar": {
              "outlinewidth": 0,
              "ticks": ""
             }
            },
            "type": "scattergl"
           }
          ],
          "scattermapbox": [
           {
            "marker": {
             "colorbar": {
              "outlinewidth": 0,
              "ticks": ""
             }
            },
            "type": "scattermapbox"
           }
          ],
          "scatterpolar": [
           {
            "marker": {
             "colorbar": {
              "outlinewidth": 0,
              "ticks": ""
             }
            },
            "type": "scatterpolar"
           }
          ],
          "scatterpolargl": [
           {
            "marker": {
             "colorbar": {
              "outlinewidth": 0,
              "ticks": ""
             }
            },
            "type": "scatterpolargl"
           }
          ],
          "scatterternary": [
           {
            "marker": {
             "colorbar": {
              "outlinewidth": 0,
              "ticks": ""
             }
            },
            "type": "scatterternary"
           }
          ],
          "surface": [
           {
            "colorbar": {
             "outlinewidth": 0,
             "ticks": ""
            },
            "colorscale": [
             [
              0,
              "#0d0887"
             ],
             [
              0.1111111111111111,
              "#46039f"
             ],
             [
              0.2222222222222222,
              "#7201a8"
             ],
             [
              0.3333333333333333,
              "#9c179e"
             ],
             [
              0.4444444444444444,
              "#bd3786"
             ],
             [
              0.5555555555555556,
              "#d8576b"
             ],
             [
              0.6666666666666666,
              "#ed7953"
             ],
             [
              0.7777777777777778,
              "#fb9f3a"
             ],
             [
              0.8888888888888888,
              "#fdca26"
             ],
             [
              1,
              "#f0f921"
             ]
            ],
            "type": "surface"
           }
          ],
          "table": [
           {
            "cells": {
             "fill": {
              "color": "#EBF0F8"
             },
             "line": {
              "color": "white"
             }
            },
            "header": {
             "fill": {
              "color": "#C8D4E3"
             },
             "line": {
              "color": "white"
             }
            },
            "type": "table"
           }
          ]
         },
         "layout": {
          "annotationdefaults": {
           "arrowcolor": "#2a3f5f",
           "arrowhead": 0,
           "arrowwidth": 1
          },
          "coloraxis": {
           "colorbar": {
            "outlinewidth": 0,
            "ticks": ""
           }
          },
          "colorscale": {
           "diverging": [
            [
             0,
             "#8e0152"
            ],
            [
             0.1,
             "#c51b7d"
            ],
            [
             0.2,
             "#de77ae"
            ],
            [
             0.3,
             "#f1b6da"
            ],
            [
             0.4,
             "#fde0ef"
            ],
            [
             0.5,
             "#f7f7f7"
            ],
            [
             0.6,
             "#e6f5d0"
            ],
            [
             0.7,
             "#b8e186"
            ],
            [
             0.8,
             "#7fbc41"
            ],
            [
             0.9,
             "#4d9221"
            ],
            [
             1,
             "#276419"
            ]
           ],
           "sequential": [
            [
             0,
             "#0d0887"
            ],
            [
             0.1111111111111111,
             "#46039f"
            ],
            [
             0.2222222222222222,
             "#7201a8"
            ],
            [
             0.3333333333333333,
             "#9c179e"
            ],
            [
             0.4444444444444444,
             "#bd3786"
            ],
            [
             0.5555555555555556,
             "#d8576b"
            ],
            [
             0.6666666666666666,
             "#ed7953"
            ],
            [
             0.7777777777777778,
             "#fb9f3a"
            ],
            [
             0.8888888888888888,
             "#fdca26"
            ],
            [
             1,
             "#f0f921"
            ]
           ],
           "sequentialminus": [
            [
             0,
             "#0d0887"
            ],
            [
             0.1111111111111111,
             "#46039f"
            ],
            [
             0.2222222222222222,
             "#7201a8"
            ],
            [
             0.3333333333333333,
             "#9c179e"
            ],
            [
             0.4444444444444444,
             "#bd3786"
            ],
            [
             0.5555555555555556,
             "#d8576b"
            ],
            [
             0.6666666666666666,
             "#ed7953"
            ],
            [
             0.7777777777777778,
             "#fb9f3a"
            ],
            [
             0.8888888888888888,
             "#fdca26"
            ],
            [
             1,
             "#f0f921"
            ]
           ]
          },
          "colorway": [
           "#636efa",
           "#EF553B",
           "#00cc96",
           "#ab63fa",
           "#FFA15A",
           "#19d3f3",
           "#FF6692",
           "#B6E880",
           "#FF97FF",
           "#FECB52"
          ],
          "font": {
           "color": "#2a3f5f"
          },
          "geo": {
           "bgcolor": "white",
           "lakecolor": "white",
           "landcolor": "#E5ECF6",
           "showlakes": true,
           "showland": true,
           "subunitcolor": "white"
          },
          "hoverlabel": {
           "align": "left"
          },
          "hovermode": "closest",
          "mapbox": {
           "style": "light"
          },
          "paper_bgcolor": "white",
          "plot_bgcolor": "#E5ECF6",
          "polar": {
           "angularaxis": {
            "gridcolor": "white",
            "linecolor": "white",
            "ticks": ""
           },
           "bgcolor": "#E5ECF6",
           "radialaxis": {
            "gridcolor": "white",
            "linecolor": "white",
            "ticks": ""
           }
          },
          "scene": {
           "xaxis": {
            "backgroundcolor": "#E5ECF6",
            "gridcolor": "white",
            "gridwidth": 2,
            "linecolor": "white",
            "showbackground": true,
            "ticks": "",
            "zerolinecolor": "white"
           },
           "yaxis": {
            "backgroundcolor": "#E5ECF6",
            "gridcolor": "white",
            "gridwidth": 2,
            "linecolor": "white",
            "showbackground": true,
            "ticks": "",
            "zerolinecolor": "white"
           },
           "zaxis": {
            "backgroundcolor": "#E5ECF6",
            "gridcolor": "white",
            "gridwidth": 2,
            "linecolor": "white",
            "showbackground": true,
            "ticks": "",
            "zerolinecolor": "white"
           }
          },
          "shapedefaults": {
           "line": {
            "color": "#2a3f5f"
           }
          },
          "ternary": {
           "aaxis": {
            "gridcolor": "white",
            "linecolor": "white",
            "ticks": ""
           },
           "baxis": {
            "gridcolor": "white",
            "linecolor": "white",
            "ticks": ""
           },
           "bgcolor": "#E5ECF6",
           "caxis": {
            "gridcolor": "white",
            "linecolor": "white",
            "ticks": ""
           }
          },
          "title": {
           "x": 0.05
          },
          "xaxis": {
           "automargin": true,
           "gridcolor": "white",
           "linecolor": "white",
           "ticks": "",
           "title": {
            "standoff": 15
           },
           "zerolinecolor": "white",
           "zerolinewidth": 2
          },
          "yaxis": {
           "automargin": true,
           "gridcolor": "white",
           "linecolor": "white",
           "ticks": "",
           "title": {
            "standoff": 15
           },
           "zerolinecolor": "white",
           "zerolinewidth": 2
          }
         }
        },
        "title": {
         "text": "",
         "x": 0.5,
         "xanchor": "center",
         "y": 0.9,
         "yanchor": "bottom"
        },
        "width": 1000,
        "xaxis": {
         "anchor": "y",
         "domain": [
          0,
          1
         ],
         "rangeslider": {
          "visible": false
         },
         "type": "category"
        },
        "yaxis": {
         "anchor": "x",
         "domain": [
          0,
          1
         ]
        }
       }
      }
     },
     "metadata": {},
     "output_type": "display_data"
    }
   ],
   "source": [
    "plot_candlestick_graph('GOOGL', 5)"
   ]
  }
 ],
 "metadata": {
  "kernelspec": {
   "display_name": "venv",
   "language": "python",
   "name": "python3"
  },
  "language_info": {
   "codemirror_mode": {
    "name": "ipython",
    "version": 3
   },
   "file_extension": ".py",
   "mimetype": "text/x-python",
   "name": "python",
   "nbconvert_exporter": "python",
   "pygments_lexer": "ipython3",
   "version": "3.10.8"
  },
  "vscode": {
   "interpreter": {
    "hash": "897048407024866bfbbcb40991d13bb5365eeda868d88978e80d327b35728f9d"
   }
  }
 },
 "nbformat": 4,
 "nbformat_minor": 5
}
